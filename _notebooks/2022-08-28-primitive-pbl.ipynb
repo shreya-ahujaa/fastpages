{
 "cells": [
  {
   "cell_type": "markdown",
   "metadata": {},
   "source": [
    "# \"Unit 1: Primitive Types (PBL and Examples)\"\n",
    "> \"Applications of the Collegeboard Topic Primitives in our own Project and other situations.\"\n",
    "\n",
    "- toc:true\n",
    "- branch: master\n",
    "- badges: true\n",
    "- comments: true\n",
    "- author: Shreya Ahuja\n",
    "- categories: [fastpages, notes, primitives, pbl]"
   ]
  },
  {
   "cell_type": "code",
   "execution_count": 23,
   "metadata": {},
   "outputs": [
    {
     "name": "stdout",
     "output_type": "stream",
     "text": [
      "Number of Grades Entered: 5\n",
      "GPA: 3.6\n"
     ]
    }
   ],
   "source": [
    "\n",
    "public class GPACalculator {\n",
    "    int numSubjects;    // the number of subjects taken by the student --> best primitive is integer\n",
    "    float gradeValue;   // the sum of the grades of all subjects --> best primitive is floating point because grade can be decimal\n",
    "    float GPAResult;    // the final GPA calculated and stored by application --> best primitive is floating point \n",
    "\n",
    "    \n",
    "    // constructor for the class to initialize all the attributes\n",
    "    GPACalculator ()  \n",
    "    {\n",
    "        numSubjects = 0;\n",
    "        gradeValue = (float)0;   // casting converts 0 from integer to float to match the variable type\n",
    "        GPAResult = (float)0;\n",
    "    }\n",
    "\n",
    "    // method to add a new subject grade and convert letter to grade value\n",
    "    void addScore (String letterGrade)\n",
    "    {\n",
    "        float value;\n",
    "\n",
    "        if (letterGrade == \"A\")\n",
    "            value = 4.0f;\n",
    "        else if (letterGrade == \"B\")\n",
    "            value = 3.0f;\n",
    "        else if (letterGrade == \"C\")\n",
    "            value = 2.0f;\n",
    "        else if (letterGrade == \"D\")\n",
    "            value = 1.0f;\n",
    "        else if (letterGrade == \"F\")\n",
    "            value = 0.0f;\n",
    "        else \n",
    "        {\n",
    "            System.out.println(\"Invalid Letter Grade Entered\");   // error check for incorrect grade entered\n",
    "            return;\n",
    "        }\n",
    "\n",
    "        // compound assignment operator\n",
    "        gradeValue += value;  // store sum of all grade values \n",
    "        numSubjects++;  // increment the number of subjects for each valid grade entered\n",
    "            \n",
    "    }\n",
    "\n",
    "    //  method to calculate final GPA and display result\n",
    "    void displayFinalGPA ()\n",
    "    {\n",
    "\n",
    "        GPAResult = gradeValue / numSubjects;\n",
    "\n",
    "        System.out.println(\"Number of Grades Entered: \" + numSubjects);\n",
    "        System.out.println(\"GPA: \" + GPAResult);\n",
    "    }\n",
    "\n",
    "}\n",
    "\n",
    "// test input for class GPA Calculator\n",
    "GPACalculator myGPA = new GPACalculator ();\n",
    "myGPA.addScore(\"A\");\n",
    "myGPA.addScore(\"A\");\n",
    "myGPA.addScore(\"B\");\n",
    "myGPA.addScore(\"B\");\n",
    "myGPA.addScore(\"A\");\n",
    "\n",
    "// myGPA.addScore(\"G\");  // test for invalid entry\n",
    "\n",
    "myGPA.displayFinalGPA();\n"
   ]
  }
 ],
 "metadata": {
  "kernelspec": {
   "display_name": "Java",
   "language": "java",
   "name": "java"
  },
  "language_info": {
   "name": "java",
   "version": "3.9.6"
  },
  "orig_nbformat": 4,
  "vscode": {
   "interpreter": {
    "hash": "aee8b7b246df8f9039afb4144a1f6fd8d2ca17a180786b69acc140d282b71a49"
   }
  }
 },
 "nbformat": 4,
 "nbformat_minor": 2
}
