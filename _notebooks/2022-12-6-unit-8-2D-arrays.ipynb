{
 "cells": [
  {
   "cell_type": "markdown",
   "metadata": {},
   "source": [
    "# \"Unit 8: 2D Arrays (Collegeboard)\"\n",
    "- toc:true\n",
    "- branch: master\n",
    "- badges: true\n",
    "- comments: true\n",
    "- author: Shreya Ahuja\n",
    "- categories: [fastpages, collegboard, frq]"
   ]
  },
  {
   "cell_type": "markdown",
   "metadata": {},
   "source": [
    "## 2D Arrays\n",
    "\n",
    "### Creating a 2D Array\n",
    "- The first step is to initialize the array\n",
    "    - To do this, specify the type, followed by \"[][]\", followed by the name of the 2D array.\n"
   ]
  },
  {
   "cell_type": "code",
   "execution_count": null,
   "metadata": {
    "vscode": {
     "languageId": "java"
    }
   },
   "outputs": [],
   "source": [
    "int[][] numbers;\n",
    "String[][] names;\n",
    "char[][] letters;\n",
    "float[][] floats;\n",
    "double[][] doubles;\n",
    "Object[][] objects;"
   ]
  },
  {
   "cell_type": "markdown",
   "metadata": {},
   "source": [
    "### Initializing a 2D Array\n",
    "- Then you must give it a value, by initializing the 2D array\n",
    "- There are two ways to initialize a 2D array \n",
    "    - Method 1: You can initialize the array by giving it values \n",
    "    - Method 2: You can also initialize it by giving it the size\n",
    "\n",
    "\n",
    "### Iteration\n",
    "- To iterate through a normal array, you would could use a for loop, as demonstrated below to print the alphabet\n",
    "- You would iterate through the first array(row), then use another for loop nested within the first that iterates through the second arrays(columns)."
   ]
  },
  {
   "cell_type": "code",
   "execution_count": 1,
   "metadata": {
    "vscode": {
     "languageId": "java"
    }
   },
   "outputs": [
    {
     "name": "stdout",
     "output_type": "stream",
     "text": [
      "1 2 3 4 5 6 7 8 9 0 - =  \n",
      "q w e r t y u i o p [ ] \\  \n",
      "a s d f g h j k l  \n",
      "z x c v b n m , . /  \n"
     ]
    }
   ],
   "source": [
    "String[][] alphabet = {{\"1\", \"2\", \"3\", \"4\", \"5\", \"6\", \"7\", \"8\", \"9\", \"0\", \"-\", \"=\"},\n",
    "{\"q\", \"w\", \"e\", \"r\", \"t\", \"y\", \"u\", \"i\", \"o\", \"p\", \"[\", \"]\", \"\\\\\"},\n",
    "{\"a\", \"s\", \"d\", \"f\", \"g\", \"h\", \"j\", \"k\", \"l\"},\n",
    "{\"z\", \"x\", \"c\", \"v\", \"b\", \"n\", \"m\", \",\", \".\", \"/\"}};\n",
    "for(int i = 0;i<alphabet.length;i++){\n",
    "    for(int j = 0; j < alphabet[i].length;j++){ //nested for loops\n",
    "        System.out.print(alphabet[i][j]+\" \");\n",
    "    }\n",
    "    System.out.println(\" \");\n",
    "}"
   ]
  },
  {
   "cell_type": "markdown",
   "metadata": {},
   "source": [
    "### Accessing and Changing Elements of 2D Arrays\n",
    "- You can change elements or access elements in 2D arrays by using the indexes \n",
    "   - For example, to access the 2nd row, and 3 column, use [1][2]\n",
    "- can change or access using index"
   ]
  },
  {
   "cell_type": "markdown",
   "metadata": {},
   "source": [
    "## Hacks/Homework"
   ]
  },
  {
   "cell_type": "code",
   "execution_count": 13,
   "metadata": {
    "vscode": {
     "languageId": "java"
    }
   },
   "outputs": [
    {
     "name": "stdout",
     "output_type": "stream",
     "text": [
      "\n",
      "\n",
      "Original/Regular Array:\n",
      "0 1 2 3 4 \n",
      "1 2 3 4 5 \n",
      "2 3 4 5 6 \n",
      "3 4 5 6 7 \n",
      "4 5 6 7 8 \n",
      "\n",
      "\n",
      "Array Reversed:\n",
      "8 7 6 5 4 \n",
      "7 6 5 4 3 \n",
      "6 5 4 3 2 \n",
      "5 4 3 2 1 \n",
      "4 3 2 1 0 \n",
      "Enter Row Index (Between 0-4): 2\n",
      "Enter Column Index (Between 0-4): 2\n",
      "Element Index/Result: 4\n",
      "Product Of Values in Row: 0: 0\n",
      "Product Of Values in Row: 1: 120\n",
      "Product Of Values in Row: 2: 720\n",
      "Product Of Values in Row: 3: 2520\n",
      "Product Of Values in Row: 4: 6720\n",
      "Total Sum of Products: 10080\n"
     ]
    }
   ],
   "source": [
    "import java.util.Scanner;\n",
    "\n",
    "public class Arrays {\n",
    "    int[][] numbers;\n",
    "    public Arrays(){\n",
    "        int[][] newArray = new int[5][5];   // initializing 2D array\n",
    "\n",
    "        for (int i = 0; i < newArray.length; i++){\n",
    "            for (int j = 0; j < newArray[i].length; j++){\n",
    "                newArray[i][j] = i + j;  // setting the arbitrary values\n",
    "            }\n",
    "        }\n",
    "\n",
    "        this.numbers = newArray;\n",
    "    }\n",
    "\n",
    "    public void printValues(){\n",
    "        System.out.println(\"\\n\\nOriginal/Regular Array:\");\n",
    "        for(int i = 0; i < numbers.length; i++){\n",
    "            for(int j = 0; j < numbers[i].length; j++){\n",
    "                System.out.print(numbers[i][j] + \" \");   // space between each value\n",
    "            }\n",
    "\n",
    "            System.out.println();\n",
    "\n",
    "        }\n",
    "    }\n",
    "\n",
    "    public void reverseValues(){\n",
    "        System.out.println(\"\\n\\nArray Reversed:\");\n",
    "        for(int i = numbers.length-1;i>=0;i--){\n",
    "            for(int j = numbers[i].length-1; j >= 0;j--){ \n",
    "                System.out.print(numbers[i][j] + \" \");  // space between the values \n",
    "            }\n",
    "            System.out.println();\n",
    "        }\n",
    "    }\n",
    "\n",
    "    public void getIndex(){\n",
    "        Scanner scanner = new Scanner(System.in);\n",
    "\n",
    "        System.out.print(\"Enter Row Index (Between 0-4): \");\n",
    "        int row = scanner.nextInt();\n",
    "        System.out.println(row);\n",
    "\n",
    "        System.out.print(\"Enter Column Index (Between 0-4): \");\n",
    "        int column = scanner.nextInt();\n",
    "        System.out.println(column);\n",
    "\n",
    "        System.out.print(\"Element Index/Result: \"); \n",
    "        System.out.println(numbers[row][column]);\n",
    "    }\n",
    "\n",
    "    public void multiplyRowAndSum(){\n",
    "        int product = 1;\n",
    "        int total = 0;\n",
    "        for(int i = 0; i < numbers.length; i++){\n",
    "            for(int j = 0; j < numbers[i].length; j++){\n",
    "                product *= numbers[i][j];\n",
    "            }\n",
    "            System.out.println(\"Product Of Values in Row: \" + i + \": \" + product);\n",
    "            total += product;\n",
    "            product = 1;\n",
    "        }\n",
    "        System.out.println(\"Total Sum of Products: \" + total);\n",
    "    }\n",
    "    \n",
    "\n",
    "    public static void main(String[] args){\n",
    "        Arrays array = new Arrays();\n",
    "        array.printValues();\n",
    "        array.reverseValues();\n",
    "        array.getIndex();\n",
    "        array.multiplyRowAndSum();\n",
    "\n",
    "    }\n",
    "}\n",
    "\n",
    "Arrays.main(null);"
   ]
  },
  {
   "cell_type": "markdown",
   "metadata": {},
   "source": [
    "### Extra Credit Work"
   ]
  },
  {
   "cell_type": "code",
   "execution_count": 1,
   "metadata": {
    "vscode": {
     "languageId": "java"
    }
   },
   "outputs": [
    {
     "name": "stdout",
     "output_type": "stream",
     "text": [
      "\n",
      "A story of a Monkey and Cthulhus\n",
      "ʕง ͠° ͟ل͜ ͡°)ʔ \n",
      "  \\_⏄_/  \n",
      "  --0--   \n",
      "  ⎛   ⎞   \n",
      "⠀⠀⠀⠀⠀⠀⠀⠀⠀⡠⡀⠀⠀⠀⠀⠀⠀⢎⠀⠀⠀⠀⠀⠀⠀⠀⠀⠀⠀⠀ʕง ͠° ͟ل͜ ͡°)ʔ \n",
      "⠀⠀⠀⠀⠀⠀⠀⠀⠀⠂⢱⠀⠀⢀⣤⡀⠀⠀⢣⠀⠀⠀⠀⠀⠀⠀⠀⠀⠀⠀  \\_⏄_/  \n",
      "⠀⠀⠀⠀⠀⠀⠀⠀⠀⣰⠻⠉⣧⣿⣿⣿⠀⠀⢸⠇⠀⠐⠉⡆⠀⠀⠀⠀⠀⠀  --0--   \n",
      "⠀⠀⠀⠀⢀⠔⠒⢦⠀⢻⡄⠀⢿⣻⣿⡿⢀⣴⣋⣄⣄⣌⣠⠃⠀⠀⠀⠀⠀⠀  ⎛   ⎞   \n",
      "⠀⠀⠀⠀⠈⠀⢀⡞⠀⠈⠛⣷⣾⣿⣿⣿⣿⣿⣯⣥⣀⠀⠀⠀⠀⠀⠀⠀⠀⠀         \n",
      "⠀⠀⠀⠀⠀⠀⠈⠷⣦⣴⡾⢿⣿⡿⢿⣿⣋⣽⠶⢦⠙⢷⡀⠀⠀⠀⠀⠀⠀⠀         \n",
      "⠀⠀⠀⠀⠀⠀⠀⠀⠀⠀⢀⣾⡏⢀⡆⠈⠉⠁⡄⠈⡇⠘⢇⠀⢈⡆⠀⠀⠀⠀         \n",
      "⠀⠀⠀⠀⠀⠀⠀⠀⠀⠀⢸⡯⠀⠸⠁⠀⠀⠸⣧⡀⡇⠀⠈⠉⠉⠀⠀⠀⠀⠀         \n",
      "⠀⠀⠀⠀⠀⠀⠀⠀⠀⠀⠸⣇⡴⠁⠀⠀⠀⠀⠙⠛⠁⠀⠀⠀⠀⠀⠀⠀⠀          \n",
      "0000000000000000000000000000000000\n",
      "             THE END              \n"
     ]
    }
   ],
   "source": [
    "class MonkeyLoop {\n",
    "    String [][] monkeys;\n",
    "\n",
    "    //hint: missing code\n",
    "\n",
    "    // add instance variable\n",
    "    String [][] cthulhus;\n",
    "\n",
    "\n",
    "    public MonkeyLoop() {\n",
    "        monkeys = new String[][]{\n",
    "\n",
    "                {\n",
    "                        \"ʕง ͠° ͟ل͜ ͡°)ʔ \",      //[0][0] eyes\n",
    "                },\n",
    "\n",
    "                {\n",
    "                        \"  \\\\_⏄_/  \",      //[1][0] chin\n",
    "\n",
    "                },\n",
    "\n",
    "                {\n",
    "                        \"  --0--   \",       //[2][0] body\n",
    "\n",
    "                },\n",
    "\n",
    "                {\n",
    "                        \"  ⎛   ⎞   \"        //[3][0] legs\n",
    "                },\n",
    "\n",
    "\n",
    "        };\n",
    "\n",
    "        cthulhus = new String[][]{\n",
    "            {\n",
    "                    \"⠀⠀⠀⠀⠀⠀⠀⠀⠀⡠⡀⠀⠀⠀⠀⠀⠀⢎⠀⠀⠀⠀⠀⠀⠀⠀⠀⠀⠀⠀ʕง ͠° ͟ل͜ ͡°)ʔ \",\n",
    "                    \"⠀⠀⠀⠀⠀⠀⠀⠀⠀⠂⢱⠀⠀⢀⣤⡀⠀⠀⢣⠀⠀⠀⠀⠀⠀⠀⠀⠀⠀⠀  \\\\_⏄_/  \",\n",
    "                    \"⠀⠀⠀⠀⠀⠀⠀⠀⠀⣰⠻⠉⣧⣿⣿⣿⠀⠀⢸⠇⠀⠐⠉⡆⠀⠀⠀⠀⠀⠀  --0--   \",\n",
    "                    \"⠀⠀⠀⠀⢀⠔⠒⢦⠀⢻⡄⠀⢿⣻⣿⡿⢀⣴⣋⣄⣄⣌⣠⠃⠀⠀⠀⠀⠀⠀  ⎛   ⎞   \",\n",
    "                    \"⠀⠀⠀⠀⠈⠀⢀⡞⠀⠈⠛⣷⣾⣿⣿⣿⣿⣿⣯⣥⣀⠀⠀⠀⠀⠀⠀⠀⠀⠀         \",\n",
    "                    \"⠀⠀⠀⠀⠀⠀⠈⠷⣦⣴⡾⢿⣿⡿⢿⣿⣋⣽⠶⢦⠙⢷⡀⠀⠀⠀⠀⠀⠀⠀         \",\n",
    "                    \"⠀⠀⠀⠀⠀⠀⠀⠀⠀⠀⢀⣾⡏⢀⡆⠈⠉⠁⡄⠈⡇⠘⢇⠀⢈⡆⠀⠀⠀⠀         \",\n",
    "                    \"⠀⠀⠀⠀⠀⠀⠀⠀⠀⠀⢸⡯⠀⠸⠁⠀⠀⠸⣧⡀⡇⠀⠈⠉⠉⠀⠀⠀⠀⠀         \",\n",
    "                    \"⠀⠀⠀⠀⠀⠀⠀⠀⠀⠀⠸⣇⡴⠁⠀⠀⠀⠀⠙⠛⠁⠀⠀⠀⠀⠀⠀⠀⠀          \"\n",
    "            },\n",
    "        };\n",
    "    }\n",
    "\n",
    "    public void printPoem() {\n",
    "        System.out.println();\n",
    "        System.out.println(\"A story of a Monkey and Cthulhus\");\n",
    "        int monkeyCount = monkeys.length;\n",
    "        for (int i = 0; i < monkeyCount; i++)\n",
    "        {\n",
    "            //hint: missing code\n",
    "            // print first monkey\n",
    "            System.out.println(monkeys[i][0]); // 2D array monkeys is 1 column with multiple rows\n",
    "        }\n",
    "        //hint: missing code, another for loop\n",
    "        // print cthulhus\n",
    "        for(int j = 0; j < cthulhus[0].length; j++){\n",
    "            System.out.println(cthulhus[0][j]); // 2D array cthulhus is 1 row with multiple columns\n",
    "        }\n",
    "        System.out.println(\"0000000000000000000000000000000000\");\n",
    "        System.out.println(\"             THE END              \");\n",
    "    }\n",
    "\n",
    "\n",
    "    public static void main(String[] args)  {\n",
    "        new MonkeyLoop().printPoem();\n",
    "    }\n",
    "\n",
    "}\n",
    "MonkeyLoop.main(null);"
   ]
  }
 ],
 "metadata": {
  "kernelspec": {
   "display_name": "Java",
   "language": "java",
   "name": "java"
  },
  "language_info": {
   "codemirror_mode": "java",
   "file_extension": ".jshell",
   "mimetype": "text/x-java-source",
   "name": "Java",
   "pygments_lexer": "java",
   "version": "11.0.16.1+0"
  },
  "orig_nbformat": 4
 },
 "nbformat": 4,
 "nbformat_minor": 2
}
