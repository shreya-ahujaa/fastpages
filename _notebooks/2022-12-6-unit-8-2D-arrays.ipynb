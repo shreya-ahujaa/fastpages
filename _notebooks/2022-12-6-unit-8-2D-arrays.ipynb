{
 "cells": [
  {
   "cell_type": "markdown",
   "metadata": {},
   "source": [
    "# \"Unit 8: 2D Arrays (Collegeboard)\"\n",
    "- toc:true\n",
    "- branch: master\n",
    "- badges: true\n",
    "- comments: true\n",
    "- author: Shreya Ahuja\n",
    "- categories: [fastpages, collegboard, frq]"
   ]
  },
  {
   "cell_type": "markdown",
   "metadata": {},
   "source": [
    "## 2D Arrays\n",
    "\n",
    "### Creating a 2D Array\n",
    "- The first step is to initialize the array\n",
    "    - To do this, specify the type, followed by \"[][]\", followed by the name of the 2D array.\n"
   ]
  },
  {
   "cell_type": "code",
   "execution_count": null,
   "metadata": {
    "vscode": {
     "languageId": "java"
    }
   },
   "outputs": [],
   "source": [
    "int[][] numbers;\n",
    "String[][] names;\n",
    "char[][] letters;\n",
    "float[][] floats;\n",
    "double[][] doubles;\n",
    "Object[][] objects;"
   ]
  },
  {
   "cell_type": "markdown",
   "metadata": {},
   "source": [
    "### Initializing a 2D Array\n",
    "- Then you must give it a value, by initializing the 2D array\n",
    "- There are two ways to initialize a 2D array \n",
    "    - Method 1: You can initialize the array by giving it values \n",
    "    - Method 2: You can also initialize it by giving it the size\n",
    "\n",
    "\n",
    "### Iteration\n",
    "- To iterate through a normal array, you would could use a for loop, as demonstrated below to print the alphabet\n",
    "- You would iterate through the first array(row), then use another for loop nested within the first that iterates through the second arrays(columns)."
   ]
  },
  {
   "cell_type": "code",
   "execution_count": 1,
   "metadata": {
    "vscode": {
     "languageId": "java"
    }
   },
   "outputs": [
    {
     "name": "stdout",
     "output_type": "stream",
     "text": [
      "1 2 3 4 5 6 7 8 9 0 - =  \n",
      "q w e r t y u i o p [ ] \\  \n",
      "a s d f g h j k l  \n",
      "z x c v b n m , . /  \n"
     ]
    }
   ],
   "source": [
    "String[][] alphabet = {{\"1\", \"2\", \"3\", \"4\", \"5\", \"6\", \"7\", \"8\", \"9\", \"0\", \"-\", \"=\"},\n",
    "{\"q\", \"w\", \"e\", \"r\", \"t\", \"y\", \"u\", \"i\", \"o\", \"p\", \"[\", \"]\", \"\\\\\"},\n",
    "{\"a\", \"s\", \"d\", \"f\", \"g\", \"h\", \"j\", \"k\", \"l\"},\n",
    "{\"z\", \"x\", \"c\", \"v\", \"b\", \"n\", \"m\", \",\", \".\", \"/\"}};\n",
    "for(int i = 0;i<alphabet.length;i++){\n",
    "    for(int j = 0; j < alphabet[i].length;j++){ //nested for loops\n",
    "        System.out.print(alphabet[i][j]+\" \");\n",
    "    }\n",
    "    System.out.println(\" \");\n",
    "}"
   ]
  },
  {
   "cell_type": "markdown",
   "metadata": {},
   "source": [
    "### Accessing and Changing Elements of 2D Arrays\n",
    "- You can change elements or access elements in 2D arrays by using the indexes \n",
    "   - For example, to access the 2nd row, and 3 column, use [1][2]\n",
    "- can change or access using index"
   ]
  }
 ],
 "metadata": {
  "kernelspec": {
   "display_name": "Java",
   "language": "java",
   "name": "java"
  },
  "language_info": {
   "codemirror_mode": "java",
   "file_extension": ".jshell",
   "mimetype": "text/x-java-source",
   "name": "Java",
   "pygments_lexer": "java",
   "version": "11.0.16.1+0"
  },
  "orig_nbformat": 4
 },
 "nbformat": 4,
 "nbformat_minor": 2
}
