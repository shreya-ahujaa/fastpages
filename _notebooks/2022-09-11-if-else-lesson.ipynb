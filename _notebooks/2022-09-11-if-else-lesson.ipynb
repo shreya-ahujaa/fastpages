{
 "cells": [
  {
   "cell_type": "markdown",
   "metadata": {},
   "source": [
    "# \"If Statement Lesson\"\n",
    "- toc:true\n",
    "- branch: master\n",
    "- badges: true\n",
    "- comments: true\n",
    "- author: Shreya Ahuja\n",
    "- categories: [fastpages, notes, if-else]"
   ]
  },
  {
   "cell_type": "markdown",
   "metadata": {},
   "source": [
    "## If Statement\n",
    "- The Java If statement is the most simple decision-making statement\n",
    "- It is used to decide whether a certain statement or block of statements will be executed or not\n",
    "  - for example: if a certain condition is true then a block of statement is executed "
   ]
  },
  {
   "cell_type": "code",
   "execution_count": 5,
   "metadata": {
    "vscode": {
     "languageId": "java"
    }
   },
   "outputs": [
    {
     "name": "stdout",
     "output_type": "stream",
     "text": [
      "Grade Value: 4.0\n"
     ]
    }
   ],
   "source": [
    "String letterGrade = \"A\";\n",
    "\n",
    "if (letterGrade == \"A\")\n",
    "    System.out.println(\"Grade Value: 4.0\");"
   ]
  },
  {
   "cell_type": "markdown",
   "metadata": {},
   "source": [
    "## If-Else Statement\n",
    "\n",
    "- If-Else statements execute a block of code if the condition is true, but another if the condition is false\n",
    "- In other words, to execute a different code block if the condition is false, we can use the Java else statement"
   ]
  },
  {
   "cell_type": "code",
   "execution_count": 17,
   "metadata": {
    "vscode": {
     "languageId": "java"
    }
   },
   "outputs": [
    {
     "name": "stdout",
     "output_type": "stream",
     "text": [
      "It is a weekend! :)\n"
     ]
    }
   ],
   "source": [
    "String dayOfWeek = \"Sunday\";\n",
    "\n",
    "if (dayOfWeek == \"Saturday\" || dayOfWeek == \"Sunday\")\n",
    "    System.out.println(\"It is a weekend! :)\");\n",
    "else\n",
    "    System.out.println(\"It is a weekday :(\");"
   ]
  },
  {
   "cell_type": "markdown",
   "metadata": {},
   "source": [
    "## If-Elseif-Else Statements\n",
    "- If-Elseif-Else statements provide multiple conditions of else-if statements in addition to the else statement\n",
    "- Else code block will execute if the specified conditions are all false\n",
    "- For Example: BMI Levels\n",
    "   - if BMI is under certain level, they will be told they are healthy\n",
    "   - if BMI is over certain level, they will be told they are unhealthy\n",
    "   - if not any of these, they are average level"
   ]
  },
  {
   "cell_type": "code",
   "execution_count": 32,
   "metadata": {
    "vscode": {
     "languageId": "java"
    }
   },
   "outputs": [
    {
     "name": "stdout",
     "output_type": "stream",
     "text": [
      "Healthy BMI Level!\n"
     ]
    }
   ],
   "source": [
    "int BMILevel = 22;\n",
    "\n",
    "if (BMILevel > 25)\n",
    "    System.out.println(\"Unhealthy BMI Level - Too High!\");\n",
    "else if (BMILevel < 18)\n",
    "    System.out.println(\"Unhealthy BMI Level - Too Low!\");\n",
    "else \n",
    "    System.out.println(\"Healthy BMI Level!\");"
   ]
  },
  {
   "cell_type": "markdown",
   "metadata": {},
   "source": [
    "## If-elseif-elseif-elsif-else Statement\n",
    "\n",
    "- These are multiple if-else statements that each display a value if the original value is not true\n",
    "- For example: GPA Calculator\n",
    "    - Each letter grade has an associated grade value, and when inputted with a certain letter grade, the code will excute through the if-else statements and find the correct value"
   ]
  },
  {
   "cell_type": "code",
   "execution_count": 21,
   "metadata": {
    "vscode": {
     "languageId": "java"
    }
   },
   "outputs": [
    {
     "name": "stdout",
     "output_type": "stream",
     "text": [
      "Grade Value: 4.0\n"
     ]
    }
   ],
   "source": [
    " String letterGrade = \"A\";\n",
    "    \n",
    "    if (letterGrade == \"A\")\n",
    "        System.out.println(\"Grade Value: 4.0\");\n",
    "    else if (letterGrade == \"B\")\n",
    "        System.out.println(\"Grade Value: 3.0\");\n",
    "    else if (letterGrade == \"C\")\n",
    "        System.out.println(\"Grade Value: 2.0\");\n",
    "    else if (letterGrade == \"D\")\n",
    "        System.out.println(\"Grade Value: 1.0\");\n",
    "    else if (letterGrade == \"F\")\n",
    "        System.out.println(\"Grade Value: 0.0\");"
   ]
  },
  {
   "cell_type": "markdown",
   "metadata": {},
   "source": [
    "## Switch Cases\n",
    "- Switch Case Statements help simplify/manage the complexity of if else statements which can in many circumstance become overly long especially when comparing by a case by case basis\n",
    "- It also helps the code run at a more efficient pace by allowing it to not go through each if-else statement\n",
    "- It works by stating a variety of Case statements which all have conditions\n",
    "   - The code blocks under each case are then run if the condition to one of the cases is met\n",
    "   - Just like if else statements, Switch Case statements will go down each case to see if a condition is met"
   ]
  },
  {
   "cell_type": "code",
   "execution_count": 36,
   "metadata": {
    "vscode": {
     "languageId": "java"
    }
   },
   "outputs": [
    {
     "name": "stdout",
     "output_type": "stream",
     "text": [
      "Grade Value: 2.0\n"
     ]
    }
   ],
   "source": [
    "String letterGrade = \"C\";\n",
    "    \n",
    "switch(letterGrade){\n",
    "    case \"A\":\n",
    "        System.out.println(\"Grade Value: 4.0\");\n",
    "        break;\n",
    "    case \"B\":\n",
    "        System.out.println(\"Grade Value: 3.0\");\n",
    "        break;\n",
    "    case \"C\":\n",
    "        System.out.println(\"Grade Value: 2.0\");\n",
    "        break;\n",
    "    case \"D\":\n",
    "        System.out.println(\"Grade Value: 1.0\");\n",
    "        break;\n",
    "    case \"F\":\n",
    "        System.out.println(\"Grade Value: 0.0\");\n",
    "        break;\n",
    "    default:\n",
    "        System.out.println(\"Invalid Letter Grade Entered\");\n",
    "}\n"
   ]
  },
  {
   "cell_type": "markdown",
   "metadata": {},
   "source": [
    "## De Morgans Law\n",
    "- De Morgan's Law states that in a boolean statement, the not operator ! will reverse all the operators in that statement\n",
    "- For instance, true becomes false, false becomes true, and becomes or, or becomes and, > becomes <=, <= becomes >, etc\n",
    "\n"
   ]
  },
  {
   "cell_type": "code",
   "execution_count": 31,
   "metadata": {
    "vscode": {
     "languageId": "java"
    }
   },
   "outputs": [
    {
     "name": "stdout",
     "output_type": "stream",
     "text": [
      "x and y are true!\n",
      "x and y are true!\n"
     ]
    }
   ],
   "source": [
    "boolean x = true;\n",
    "boolean y = true;\n",
    "\n",
    "if (!(x && y)){\n",
    "    System.out.println(\"x and y both are false!\");\n",
    "}\n",
    "else{\n",
    "    System.out.println(\"x and y are true!\");\n",
    "}\n",
    "\n",
    "if (!x || !y){\n",
    "    System.out.println(\"x and y both are false!\");\n",
    "}\n",
    "else{\n",
    "    System.out.println(\"x and y are true!\");\n",
    "}"
   ]
  }
 ],
 "metadata": {
  "kernelspec": {
   "display_name": "Java",
   "language": "java",
   "name": "java"
  },
  "language_info": {
   "codemirror_mode": "java",
   "file_extension": ".jshell",
   "mimetype": "text/x-java-source",
   "name": "Java",
   "pygments_lexer": "java",
   "version": "11.0.16.1+0"
  },
  "orig_nbformat": 4,
  "vscode": {
   "interpreter": {
    "hash": "aee8b7b246df8f9039afb4144a1f6fd8d2ca17a180786b69acc140d282b71a49"
   }
  }
 },
 "nbformat": 4,
 "nbformat_minor": 2
}
