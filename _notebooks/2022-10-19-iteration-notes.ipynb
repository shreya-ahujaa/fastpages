{
 "cells": [
  {
   "cell_type": "markdown",
   "metadata": {},
   "source": [
    "# \"Unit 4: Iteration (Collegeboard)\"\n",
    "> \"Iterations simplify code and allow it to be faster instead of writing tedious long lines of code\"\n",
    "\n",
    "- toc:true\n",
    "- branch: master\n",
    "- badges: true\n",
    "- comments: true\n",
    "- author: Shreya Ahuja\n",
    "- categories: [fastpages, notes, classes]"
   ]
  },
  {
   "cell_type": "markdown",
   "metadata": {},
   "source": [
    "\n",
    "## Types of Iteration\n",
    "- While Loops\n",
    "- For Loops\n",
    "- Recursion Loops\n",
    "- Nested Iteration\n",
    "\n",
    "### While Loop\n",
    "- a sequence of code that loops itself while a specified condition is __ condition is no longer true then the loop will stop. \n",
    "- can we used \n",
    "\n",
    "### For Loop\n",
    "- a sequence of code that loops itself or as long as the condition is met\n",
    "- if the condition is no longer true, then the loop with stop\n",
    "\n",
    "### Recursion Loop\n",
    "- similar to For Loop and While Loop\n",
    "   -  recursion also repeats itself over and over again\n",
    "-  The difference is that for recursion, a function calls itself to repeat \n",
    "\n",
    "### Nested Iteration\n",
    "- not a Java method, it is a technique\n",
    "- you are putting a loop inside of a loop\n",
    "\n"
   ]
  },
  {
   "cell_type": "markdown",
   "metadata": {},
   "source": [
    "## Homework: Quiz and Coding Exercises"
   ]
  },
  {
   "cell_type": "code",
   "execution_count": 5,
   "metadata": {
    "vscode": {
     "languageId": "java"
    }
   },
   "outputs": [
    {
     "name": "stdout",
     "output_type": "stream",
     "text": [
      "A number is chosen between 1 and 100 --> try to guess the number with 5 tries!\n",
      "Guess the number:\n",
      "The number is less than 72\n",
      "Guess the number:\n",
      "The number is less than 60\n",
      "Guess the number:\n",
      "The number is less than 20\n",
      "Guess the number:\n",
      "The number is less than 10\n",
      "Guess the number:\n",
      "You have exhausted 5 trials.\n",
      "The number was 3\n"
     ]
    }
   ],
   "source": [
    "import java.util.Scanner;\n",
    " \n",
    "public class GFG {\n",
    "    public static void\n",
    "    guessingNumberGame()\n",
    "    {\n",
    "        // Scanner Class\n",
    "        Scanner sc = new Scanner(System.in);\n",
    " \n",
    "        // Generate the numbers\n",
    "        int number = 1 + (int)(100 * Math.random());\n",
    "        int guessNumber = 5;\n",
    " \n",
    "        int i, guess;\n",
    " \n",
    "        System.out.println(\n",
    "            \"A number is chosen between 1 and 100 --> try to guess the number with 5 tries!\");\n",
    "\n",
    "        // Iterate over guessNumber of Trials\n",
    "        for (i = 0; i < guessNumber; i++) {\n",
    "            System.out.println(\"Guess the number:\");\n",
    "            guess = sc.nextInt();  // user input\n",
    "            if (number == guess) {\n",
    "                System.out.println(\"Congratulations! You guessed the number!\");\n",
    "                break;\n",
    "            }\n",
    "            else if (number > guess && i != guessNumber - 1) {\n",
    "                System.out.println(\"The number is greater than \" + guess);\n",
    "            }\n",
    "            else if (number < guess && i != guessNumber - 1) {\n",
    "                System.out.println(\"The number is less than \" + guess);\n",
    "            }\n",
    "        }\n",
    " \n",
    "        if (i == guessNumber) {\n",
    "            System.out.println(\"You have exhausted \" + guessNumber + \" trials.\");\n",
    " \n",
    "            System.out.println(\"The number was \" + number);\n",
    "        }\n",
    "    }\n",
    "\n",
    "    public static void main(String arg[])\n",
    "    {\n",
    " \n",
    "        // calling function to run\n",
    "        guessingNumberGame();\n",
    "    }\n",
    "}\n",
    "GFG.main(null);"
   ]
  }
 ],
 "metadata": {
  "kernelspec": {
   "display_name": "Java",
   "language": "java",
   "name": "java"
  },
  "language_info": {
   "codemirror_mode": "java",
   "file_extension": ".jshell",
   "mimetype": "text/x-java-source",
   "name": "Java",
   "pygments_lexer": "java",
   "version": "11.0.16.1+0"
  },
  "orig_nbformat": 4
 },
 "nbformat": 4,
 "nbformat_minor": 2
}
