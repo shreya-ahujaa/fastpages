{
 "cells": [
  {
   "cell_type": "markdown",
   "metadata": {},
   "source": [
    "# \"Unit 1: Primitive Types (Collegeboard)\"\n",
    "> \"Learning the fundamentals of Java, a programming language, as well as other foundational concepts for coding.\"\n",
    "\n",
    "- toc:true\n",
    "- branch: master\n",
    "- badges: true\n",
    "- comments: true\n",
    "- author: Shreya Ahuja\n",
    "- categories: [fastpages, notes, primitives]"
   ]
  },
  {
   "cell_type": "markdown",
   "metadata": {},
   "source": [
    "## Primitive vs Wrapper\n",
    "\n",
    "- Primitive Classes: built in data types and do not need to declare a class in order to use them\n",
    "- Wrappers: not built in data types (Non-Primitive Data Types)\n",
    "   - College Board: String is a Primitive Data Type\n",
    "   - Regular Java: String is considered a Non-Primitive data type\n",
    "\n",
    "   - Capital Letter on Type: Wrapper\n",
    "   - Lowercase Letter on Type: Primitives\n",
    "\n",
    "\n",
    "- Wrapper Classes: is a class and has methods\n",
    "   - this is because you are declaring them\n",
    "   - methods: built in code that can do different functions for you without you having to specify\n",
    "\n",
    "- Java C and Java\n",
    "   - Java C runs before Java so that it can be compiled and then run the code that was written\n"
   ]
  },
  {
   "cell_type": "markdown",
   "metadata": {},
   "source": [
    "## Python\n",
    "- Weak Language because you don't have to manually declare everything such as data types"
   ]
  },
  {
   "cell_type": "markdown",
   "metadata": {},
   "source": [
    "## Java\n",
    "- Strong Language because objects contain no references to data external to themselves \n",
    "   - In other words, that mean you have to manually declare everything such as data types\n",
    "   - fundamentally object-oriented"
   ]
  },
  {
   "cell_type": "markdown",
   "metadata": {},
   "source": [
    "## Presentation Notes\n",
    "\n",
    "### Why Java?\n",
    "- Java has more simple syntax than other languages\n",
    "- more flexible and efficient because it is OOP (Object Oriented Programming)\n",
    "- can run on any platform because it compiles into byte code and then runs\n",
    "- also for multithreading\n",
    "- secure coding language because it doesn't have pointers --> restricts access to memory\n",
    "\n",
    "### Primitives\n",
    "- Boolean\n",
    "   - true/false\n",
    "   - one but\n",
    "- Integer\n",
    "   - integer values\n",
    "   - 2-3 bots\n",
    "- Double\n",
    "   - decimal values\n",
    "   - 64 bits\n",
    "- Extra Primitive Examples; char, float, long, etc.\n",
    "\n",
    "\n",
    "### Review Operators\n",
    "- + is addition\n",
    "- - is subtraction\n",
    "- / is division\n",
    "- % is modulus\n",
    "- * is multiplication\n",
    "- ++ increment\n",
    "- += add then assign to variable\n",
    "- -= subtract then assign to variable\n",
    "\n",
    "\n"
   ]
  },
  {
   "cell_type": "markdown",
   "metadata": {},
   "source": [
    "## Presentation Homework\n",
    "\n",
    "### Question 2A\n",
    "A set of classes is used to represent various items that are available for purchase. Items are either taxable or nontaxable. The purchase price of a taxable item is computed from its list price and its tax rate. The purchase price of a nontaxable item is simply its list price. Part of the class hierarchy is shown in the diagram below. Write the TaxableItem method purchasePrice. The purchase price of a TaxableItem is its list price plus the tax on the item. The tax is computed by multiplying the list price by the tax rate. For example, if the tax rate is 0.10 (representing 10%), the purchase price of an item with a list price of $6.50 would be $7.15. "
   ]
  },
  {
   "cell_type": "code",
   "execution_count": null,
   "metadata": {},
   "outputs": [],
   "source": [
    "public double purchasePrice(){\n",
    "    return (1 + taxRate) * getListPrice();\n",
    "}"
   ]
  },
  {
   "cell_type": "markdown",
   "metadata": {},
   "source": [
    "### Question 3A\n",
    "Consider the following incomplete class that stores information about a customer, which includes a name and unique ID (a positive integer). To facilitate sorting, customers are ordered alphabetically by name. If two or more customers have the same name, they are further ordered by ID number. A particular customer is \"greater than\" another customer if that particular customer appears later in the ordering than the other customer. \n",
    "\n",
    "Write the Customer method compareCustomer, which compares this customer to a given customer, other. Customers are ordered alphabetically by name, using the compareTo method of the String class. If the names of the two customers are the same, then the customers are ordered by ID number. Method compareCustomer should return a positive integer if this customer is greater than other, a negative integer if this customer is less than other, and 0 if they are the same.\n",
    " For example, suppose we have the following Customer objects.\n",
    " Customer c1 = new Customer(\"Smith\", 1001);\n",
    " Customer c2 = new Customer(\"Anderson\", 1002);\n",
    " Customer c3 = new Customer(\"Smith\", 1003); "
   ]
  },
  {
   "cell_type": "code",
   "execution_count": null,
   "metadata": {},
   "outputs": [],
   "source": [
    "public int compareCustomer(Customer other)\n",
    "{\n",
    " int nameCompare = getName().compareTo(other.getName());\n",
    " if (nameCompare != 0)\n",
    " {\n",
    "    return nameCompare;\n",
    " }\n",
    " else\n",
    " {\n",
    "    return getID() - other.getID();\n",
    " }\n",
    "} "
   ]
  }
 ],
 "metadata": {
  "kernelspec": {
   "display_name": "Java",
   "language": "java",
   "name": "java"
  },
  "language_info": {
   "codemirror_mode": "java",
   "file_extension": ".jshell",
   "mimetype": "text/x-java-source",
   "name": "java",
   "pygments_lexer": "java",
   "version": "3.9.6"
  },
  "orig_nbformat": 4,
  "vscode": {
   "interpreter": {
    "hash": "aee8b7b246df8f9039afb4144a1f6fd8d2ca17a180786b69acc140d282b71a49"
   }
  }
 },
 "nbformat": 4,
 "nbformat_minor": 2
}
