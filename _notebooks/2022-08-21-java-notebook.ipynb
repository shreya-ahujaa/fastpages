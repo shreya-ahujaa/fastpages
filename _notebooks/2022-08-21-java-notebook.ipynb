# "First Java Jupyter Notebook"
> "Java Jupyter Notebook"

- toc:true
- branch: master
- badges: true
- comments: true
- author: Shreya Ahuja
- categories: [fastpages, jupyter, java]

System.out.println(“Hello”)
