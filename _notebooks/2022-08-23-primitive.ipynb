{
 "cells": [
  {
   "cell_type": "markdown",
   "metadata": {},
   "source": [
    "# Primitive Data Types\n",
    "- Primitive Classes: built in data types and do not need to declare a class in order to use them\n",
    "- Wrappers: not built in data types (Non-Primitive Data Types)\n",
    "   - College Board: String is a Primitive Data Type\n",
    "   - Regular Java: String is considered a Non-Primitive data type\n",
    "\n",
    "   - Capital Letter on Type: Wrapper\n",
    "   - Lowercase Letter on Type: Primitives\n",
    "\n",
    "\n",
    "- Wrapper Classes: is a class and has methods\n",
    "   - this is because you are declaring them\n",
    "   - methods: built in code that can do different functions for you without you having to specify\n",
    "\n",
    "- Java C and Java\n",
    "   - Java C runs before Java so that it can be compiled and then run the code that was written\n"
   ]
  },
  {
   "cell_type": "markdown",
   "metadata": {},
   "source": [
    "## Python\n",
    "- Weak Language because you don't have to manually declare everything such as data types"
   ]
  },
  {
   "cell_type": "markdown",
   "metadata": {},
   "source": [
    "## Java\n",
    "- Strong Language because objects contain no references to data external to themselves \n",
    "   - In other words, that mean you have to manually declare everything such as data types\n",
    "   - fundamentally object-oriented"
   ]
  }
 ],
 "metadata": {
  "kernelspec": {
   "display_name": "Python 3.9.6 64-bit",
   "language": "python",
   "name": "python3"
  },
  "language_info": {
   "name": "python",
   "version": "3.9.6"
  },
  "orig_nbformat": 4,
  "vscode": {
   "interpreter": {
    "hash": "aee8b7b246df8f9039afb4144a1f6fd8d2ca17a180786b69acc140d282b71a49"
   }
  }
 },
 "nbformat": 4,
 "nbformat_minor": 2
}
