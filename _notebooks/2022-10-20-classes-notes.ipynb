{
 "cells": [
  {
   "cell_type": "markdown",
   "metadata": {},
   "source": [
    "# \"Unit 5: Writing Classes (Collegeboard)\"\n",
    "> \"Learning the fundamentals of Java, a programming language, as well as other foundational concepts for coding.\"\n",
    "\n",
    "- toc:true\n",
    "- branch: master\n",
    "- badges: true\n",
    "- comments: true\n",
    "- author: Shreya Ahuja\n",
    "- categories: [fastpages, notes, classes]"
   ]
  },
  {
   "cell_type": "markdown",
   "metadata": {},
   "source": [
    "## Anatomy of a Class\n",
    "- Object\n",
    "   - State, attributes, behavior\n",
    "   - Instance of a class\n",
    "   - Represented by an instance in the program\n",
    "\n",
    "- Class\n",
    "   - Defines an abstract data type\n",
    "   - Object references\n",
    "       - String variables\n",
    "   - Instance Variables\n",
    "       - Attributes, behaviors\n",
    "       - Data for objects\n",
    "\n",
    "\n",
    "### Methods and Constructors\n",
    "- Methods\n",
    "   - behaviors or methods that apply to the objects\n",
    "- Constructors\n",
    "   - creates the object\n",
    "\n",
    "### Main Method\n",
    "- Main Method\n",
    "   - Tests the class\n",
    "   - Instance variables"
   ]
  },
  {
   "cell_type": "markdown",
   "metadata": {},
   "source": [
    "## Constructors\n",
    "- Special method for object instantiation\n",
    "    - Sets initial values for variables\n",
    "    - Can run methods\n",
    "- Default Constructor\n",
    "    - No constructor defined\n",
    "    - No arguments\n",
    "- Can have multiple constructors per class\n"
   ]
  },
  {
   "cell_type": "markdown",
   "metadata": {},
   "source": [
    "## Documentation with Comments\n",
    "\n",
    "### Commenting\n",
    "- Comment with // for a single line\n",
    "- /* */ for multiple line\n",
    "- /** */ for documentation comment\n",
    "- Help with explaining what code is about\n",
    "- Preconditions\n",
    "   - What must be true before code is implemented\n",
    "- Postconditions\n",
    "   - Should be true after method is run\n",
    "   - Describe the output if the method\n"
   ]
  },
  {
   "cell_type": "markdown",
   "metadata": {},
   "source": [
    "## Accessor and Mutator Methods\n",
    "### Accessor Methods\n",
    "- Get of methods or getters\n",
    "    - Allows you to ‘get’ values of variables\n",
    "    - Returns a copy of variable\n",
    "- Non-Void Methods \n",
    "    - Return a value of specified data type\n",
    "    - No parameters\n",
    "\n",
    "### Mutator Methods\n",
    "- Set of methods or setters\n",
    "    - Allows you to change the values of instance variables\n",
    "- Void methods \n",
    "    - Will not return a value\n",
    "    - Will take parameters for instance variables\n",
    "\n"
   ]
  },
  {
   "cell_type": "markdown",
   "metadata": {},
   "source": [
    "## Writing Methods\n",
    "### Writing Methods\n",
    "- 3 Parts:\n",
    "    - Method Definition (Modifiers, Return Type)\n",
    "    - Method Signature (Name, Parameters)\n",
    "    - Method Body (Code)\n",
    "- camelCase\n",
    "- Object.method()\n",
    "\n",
    "### Method Return Types\n",
    "- String\n",
    "    - Returns a string\n",
    "- Int\n",
    "    - Returns an integer\n",
    "- Bool\n",
    "    - Returns a Boolean\n",
    "- Any Object Type\n",
    "    - Returns specified Object\n",
    "- Void\n",
    "    - Method have any return values\n",
    "\n"
   ]
  },
  {
   "cell_type": "markdown",
   "metadata": {},
   "source": [
    "## Keywords in Java\n",
    "\n",
    "### Static Modifier\n",
    "- Key word usually used after access modifiers\n",
    "- Denotes as belonging to a class\n",
    "- Objects cannot reference/use static variables & methods\n",
    "- Universally shared variables and methods among objects\n",
    "\n",
    "### This\n",
    "- Refers to the constructor that it is being called in\n",
    "- Eliminates confusion between attributes and parameters\n",
    "\n",
    "### Access Modifiers\n",
    "- Restricts scope of classes, variables, and functions\n",
    "- Mainly used for encapsulation\n",
    "- Prevents misuse of data & methods\n"
   ]
  },
  {
   "cell_type": "markdown",
   "metadata": {},
   "source": [
    "## Scope and Access\n",
    "\n",
    "### Scope\n",
    "- Where a variable can be accessed or used\n",
    "   - Declaration of variable\n",
    "- 3 Levels:\n",
    "   - Class Level: Instance var\n",
    "   - Method Level: Local, Parameter var\n",
    "   - Block Level: Loops, If/Else\n"
   ]
  }
 ],
 "metadata": {
  "kernelspec": {
   "display_name": "Python 3.9.6 64-bit",
   "language": "python",
   "name": "python3"
  },
  "language_info": {
   "name": "python",
   "version": "3.9.6"
  },
  "orig_nbformat": 4,
  "vscode": {
   "interpreter": {
    "hash": "aee8b7b246df8f9039afb4144a1f6fd8d2ca17a180786b69acc140d282b71a49"
   }
  }
 },
 "nbformat": 4,
 "nbformat_minor": 2
}
