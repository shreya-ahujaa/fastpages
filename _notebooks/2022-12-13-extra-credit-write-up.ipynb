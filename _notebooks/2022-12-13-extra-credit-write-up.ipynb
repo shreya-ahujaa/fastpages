{
 "cells": [
  {
   "cell_type": "markdown",
   "metadata": {},
   "source": [
    "# \"Guest Speaker Extra Credit Reflection\"\n",
    "- toc:true\n",
    "- branch: master\n",
    "- badges: true\n",
    "- comments: true\n",
    "- author: Shreya Ahuja\n",
    "- categories: [fastpages, reflection]"
   ]
  },
  {
   "cell_type": "markdown",
   "metadata": {},
   "source": [
    "At the presentation today, Kathyleen Beveridge and Kris Porter, two guest speakers, talked about their journey, education, employment, favorite projects, and added insight into different areas of engineering. They also explained some key factors to being successful in the tech world and how we can organize and shift our lives to become content with where we end up in life.\n",
    "\n",
    "Kathyleen Beveridge first started by explaining her career and journey. She has moved around and gone to many different jobs like Wells Fargo, Nikko Securities, Qualcomm, and is now ThermoFischer. At her job right now, she is the senior director of marketing, and helps market the different products and services for the tech companies in the right markets in order for them to benefit the people the most. While working in these industries, she learned many different things and was willing to share them with us. One thing that she believes is that the most important skill to the tech industry is adaptability. She claims that the best technical people listen to the requirements, translate it in terms of how technology can solve problems, and are flexible in helping people around them. This can be translated to our classroom. People who are more flexible and are willing to help those around them become more successful as they learn more by helping. This is something that I hope to do more in class from now on. Beveridge lives by the motto, “My mission in life is not merely to survive, but to thrive; and to do so with passion, some compassion, some humor, and style.” She is grateful that she is able to work and make a life in the industry that uses tech for the good of the people, and is proud of where she has come in life. I also hope to achieve something like this in my future, and end up somewhere where I am content and happy.\n",
    "\n",
    "Kris Porter, the other guest speaker at the event also shared many insights with the class that will be useful in our journey through the technical field. He is a software developer and works as an SRE, DevOps Engineer, and Infrastructure Engineer. Throughout his career, he has also worked at multiple companies and has been successful in each one. One of the things that he believes to be most important in developing a working team is Agile Methodologies. He shows how different companies have their own version of agile development, and use it depending on what they need. But, all companies use it, helping the team work cohesively, which is something that my team has been emphasizing this trimester. Porter also shows us that continuous learning is key. He claims that it is important to not learn just a particular programming language, but to learn everything. I think this is something we do well in this class, as we don’t only focus on coding, but the different aspects like problem solving, and adding on with new techniques. The biggest takeaway from his talk was that coding is a way of thinking. It is a way of looking at a problem and dissecting it through critical thinking and problem solving. I think this is a very important mindset to have, and I hope I can continue to keep this learning mindset through Computer Science"
   ]
  }
 ],
 "metadata": {
  "kernelspec": {
   "display_name": "Python 3.9.6 64-bit",
   "language": "python",
   "name": "python3"
  },
  "language_info": {
   "name": "python",
   "version": "3.9.6"
  },
  "orig_nbformat": 4,
  "vscode": {
   "interpreter": {
    "hash": "aee8b7b246df8f9039afb4144a1f6fd8d2ca17a180786b69acc140d282b71a49"
   }
  }
 },
 "nbformat": 4,
 "nbformat_minor": 2
}
