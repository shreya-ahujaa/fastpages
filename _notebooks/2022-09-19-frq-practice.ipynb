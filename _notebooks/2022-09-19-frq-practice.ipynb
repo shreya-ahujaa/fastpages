{
 "cells": [
  {
   "cell_type": "markdown",
   "metadata": {},
   "source": [
    "# \"AP Exam FRQ Practice\"\n",
    "- toc:true\n",
    "- branch: master\n",
    "- badges: true\n",
    "- comments: true\n",
    "- author: Shreya Ahuja\n",
    "- categories: [fastpages, collegboard, frq]"
   ]
  },
  {
   "cell_type": "markdown",
   "metadata": {},
   "source": [
    "# FRQ Practice #1 (2018 FRQ 1)"
   ]
  },
  {
   "cell_type": "markdown",
   "metadata": {},
   "source": [
    "## Orignal Problem/Given Code"
   ]
  },
  {
   "cell_type": "code",
   "execution_count": null,
   "metadata": {},
   "outputs": [],
   "source": [
    "public class FrogSimulation\n",
    "{\n",
    "    /** Distance, in inches, from the starting position to the goal. */\n",
    "    private int goalDistance;\n",
    "    /** Maximum number of hops allowed to reach the goal. */\n",
    "    private int maxHops;\n",
    "    /** Constructs a FrogSimulation where dist is the distance, in inches, from the starting\n",
    "    * position to the goal, and numHops is the maximum number of hops allowed to reach the goal.\n",
    "    * Precondition: dist > 0; numHops > 0\n",
    "    */\n",
    "    public FrogSimulation(int dist, int numHops)\n",
    "{\n",
    "    goalDistance = dist;\n",
    "    maxHops = numHops;\n",
    "}\n",
    "    /** Returns an integer representing the distance, in inches, to be moved when the frog hops.\n",
    "     */\n",
    "    private int hopDistance()\n",
    "    { /* implementation not shown */ }\n",
    "    /** Simulates a frog attempting to reach the goal as described in part (a).\n",
    "    *  Returns true if the frog successfully reached or passed the goal during the simulation;\n",
    "    * false otherwise.\n",
    "    */\n",
    "    public boolean simulate()\n",
    "    { /* to be implemented in part (a) */ }\n",
    "    /** Runs num simulations and returns the proportion of simulations in which the frog\n",
    "    * successfully reached or passed the goal.\n",
    "    * Precondition: num > 0\n",
    "    */\n",
    "    public double runSimulations(int num)\n",
    "    { /* to be implemented in part (b) */ }\n",
    "}"
   ]
  },
  {
   "cell_type": "markdown",
   "metadata": {},
   "source": [
    "## Part A \n",
    "Instructions: Write the simulate method, which simulates the frog attempting to hop in a straight line to a goal from\n",
    "the frog's starting position of 0 within a maximum number of hops. The method returns true if the frog\n",
    "successfully reached the goal within the maximum number of hops; otherwise, the method returns false. "
   ]
  },
  {
   "cell_type": "code",
   "execution_count": 1,
   "metadata": {},
   "outputs": [],
   "source": [
    "public boolean simulate()\n",
    "{\n",
    "    int position = 0;  // intializes starting position as 0\n",
    "    for (int count = 0; count < maxHops; count++)  // cycles through the method as long as the count is less than the maxHops --> increments the hops\n",
    "    {\n",
    "        position += hopDistance();   // will get our position and see how far the location is\n",
    "        if (position >= goalDistance) // if our position is greater that the goal distance, the output is true\n",
    "        {\n",
    "            return true;\n",
    "        }\n",
    "        else if (position < 0) // if position is negative return the boolean as false\n",
    "        {\n",
    "            return false; \n",
    "        }\n",
    "    }\n",
    "    return false;  // if our position is less than the goal distance, the output is false\n",
    "}"
   ]
  },
  {
   "cell_type": "markdown",
   "metadata": {},
   "source": [
    "### Explanation with Pictures\n",
    "`![](images/frog1.png)`\n",
    "`![](images/frog2.png)`\n",
    "`![](images/frog3.png)`\n",
    "`![](images/frog4.png)`"
   ]
  },
  {
   "cell_type": "markdown",
   "metadata": {},
   "source": [
    "## Part B\n",
    "Instructions: Write the runSimulations method, which performs a given number of simulations and returns the\n",
    "proportion of simulations in which the frog successfully reached or passed the goal. For example, if the\n",
    "parameter passed to runSimulations is 400, and 100 of the 400 simulate method calls returned\n",
    "true, then the runSimulations method should return 0.25."
   ]
  },
  {
   "cell_type": "code",
   "execution_count": 2,
   "metadata": {},
   "outputs": [],
   "source": [
    "public double runSimulations(int num) // the number of times we want to run the loop\n",
    "{\n",
    "    int countSuccess = 0;  // initializes the count to start at 0\n",
    "    for (int count = 0; count < num; count++) // loops through the code --> increments \n",
    "    {\n",
    "        if(simulate()) // if the simulation is successful, it will increase the countSuccess\n",
    "        {\n",
    "            countSuccess++;\n",
    "        }\n",
    "    }\n",
    "    return (double)countSuccess / num; // gives the proportion of the success to create the correct output\n",
    "} "
   ]
  },
  {
   "cell_type": "markdown",
   "metadata": {},
   "source": [
    "### Explanation with Pictures to Demonstrate\n",
    "`![](images/bfrog1.png)`\n",
    "`![](images/bfrog2.png)`\n",
    "`![](images/bfrog3.png)`"
   ]
  }
 ],
 "metadata": {
  "kernelspec": {
   "display_name": "Java",
   "language": "java",
   "name": "java"
  },
  "language_info": {
   "codemirror_mode": "java",
   "file_extension": ".jshell",
   "mimetype": "text/x-java-source",
   "name": "java",
   "pygments_lexer": "java",
   "version": "11.0.16.1+0"
  },
  "orig_nbformat": 4,
  "vscode": {
   "interpreter": {
    "hash": "aee8b7b246df8f9039afb4144a1f6fd8d2ca17a180786b69acc140d282b71a49"
   }
  }
 },
 "nbformat": 4,
 "nbformat_minor": 2
}
