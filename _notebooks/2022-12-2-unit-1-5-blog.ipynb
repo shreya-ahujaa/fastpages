{
 "cells": [
  {
   "cell_type": "markdown",
   "metadata": {},
   "source": [
    "# \"Units 1-5 Blog and Vocabulary\"\n",
    "- toc:true\n",
    "- branch: master\n",
    "- badges: true\n",
    "- comments: true\n",
    "- author: Shreya Ahuja\n",
    "- categories: [fastpages, collegeboard, vocabulary ]"
   ]
  },
  {
   "cell_type": "markdown",
   "metadata": {},
   "source": [
    "# Student Led Lesson Scores\n",
    "\n",
    "| Unit                    | Score  | Link to Notebook |\n",
    "|-------------------------|--------|------------------|\n",
    "| Unit 1: Primitives      | 0.96   | [Blog #1](https://shreya-ahujaa.github.io/fastpages/fastpages/notes/primitives/2022/08/23/primitive-collegeboard.html)         |\n",
    "| Unit 2: Using Objects   | 0.95   | [Blog #2](https://shreya-ahujaa.github.io/fastpages/fastpages/notes/objects/2022/10/17/objects-notes.html)          |\n",
    "| Unit 3: Booleans        | 0.9    | [Blog #3](https://shreya-ahujaa.github.io/fastpages/fastpages/notes/booleans/if/2022/10/18/booleans-and-if-statments-notes.html)          |\n",
    "| Unit 4: Iterations      | 1      | [Blog #4](https://shreya-ahujaa.github.io/fastpages/fastpages/notes/classes/2022/10/19/iteration-notes.html)          |\n",
    "| Unit 5: Writing Classes | 1      | [Blog #5](https://shreya-ahujaa.github.io/fastpages/fastpages/notes/classes/2022/10/20/classes-notes.html)          |\n",
    "| Total                   | 4.81/5 | N/A              |"
   ]
  }
 ],
 "metadata": {
  "kernelspec": {
   "display_name": "Java",
   "language": "java",
   "name": "java"
  },
  "language_info": {
   "name": "java",
   "version": "3.9.6"
  },
  "orig_nbformat": 4,
  "vscode": {
   "interpreter": {
    "hash": "aee8b7b246df8f9039afb4144a1f6fd8d2ca17a180786b69acc140d282b71a49"
   }
  }
 },
 "nbformat": 4,
 "nbformat_minor": 2
}
