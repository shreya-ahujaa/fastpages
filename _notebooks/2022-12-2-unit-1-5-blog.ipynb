{
 "cells": [
  {
   "cell_type": "markdown",
   "metadata": {},
   "source": [
    "# \"Units 1-5 Blog and Vocabulary\"\n",
    "- toc:true\n",
    "- branch: master\n",
    "- badges: true\n",
    "- comments: true\n",
    "- author: Shreya Ahuja\n",
    "- categories: [fastpages, collegeboard, vocabulary ]"
   ]
  },
  {
   "cell_type": "markdown",
   "metadata": {},
   "source": [
    "# Student Led Lesson Scores\n",
    "\n",
    "| Unit                    | Score  | Link to Notebook |\n",
    "|-------------------------|--------|------------------|\n",
    "| Unit 1: Primitives      | 0.96   | [Blog #1](https://shreya-ahujaa.github.io/fastpages/fastpages/notes/primitives/2022/08/23/primitive-collegeboard.html)         |\n",
    "| Unit 2: Using Objects   | 0.95   | [Blog #2](https://shreya-ahujaa.github.io/fastpages/fastpages/notes/objects/2022/10/17/objects-notes.html)          |\n",
    "| Unit 3: Booleans        | 0.9    | [Blog #3](https://shreya-ahujaa.github.io/fastpages/fastpages/notes/booleans/if/2022/10/18/booleans-and-if-statments-notes.html)          |\n",
    "| Unit 4: Iterations      | 1      | [Blog #4](https://shreya-ahujaa.github.io/fastpages/fastpages/notes/classes/2022/10/19/iteration-notes.html)          |\n",
    "| Unit 5: Writing Classes | 1      | [Blog #5](https://shreya-ahujaa.github.io/fastpages/fastpages/notes/classes/2022/10/20/classes-notes.html)          |\n",
    "| Total                   | 4.81/5 | N/A              |"
   ]
  },
  {
   "cell_type": "markdown",
   "metadata": {},
   "source": [
    "# Vocabulary\n",
    "\n",
    "## Unit 1: Primitives \n",
    "### Operators\n",
    "  - (+) is addition\n",
    "  - (-) is subtraction\n",
    "  - (/) is division\n",
    "  - (*) is multiplication\n",
    "  - (%) finds the remainder\n",
    "example: x += 7 increases the varaible by 7\n",
    "### Casting\n",
    "- Casting is one way to convert primitives into other primitive types (commonly from int to double or vice versa). In other words, it is a way to change one data type to another\n",
    "   - When converting a double to an integer, we round the decimal places to the nearest integer"
   ]
  },
  {
   "cell_type": "code",
   "execution_count": 2,
   "metadata": {
    "vscode": {
     "languageId": "java"
    }
   },
   "outputs": [
    {
     "name": "stdout",
     "output_type": "stream",
     "text": [
      "2\n",
      "2.6666666666666665\n",
      "11\n"
     ]
    }
   ],
   "source": [
    "int x = 8;\n",
    "int y = 3;\n",
    "\n",
    "// Examples of Casting\n",
    "System.out.println(x/y);\n",
    "System.out.println((double) x / y);\n",
    "\n",
    "// Casting to Round/Truncate\n",
    "double z = 3.5;\n",
    "System.out.println((int)(x + z));"
   ]
  },
  {
   "cell_type": "markdown",
   "metadata": {},
   "source": [
    "### Wrapper Classes\n",
    "- Wrapper Classes: wrapper classes provide a way to use primitive data types as object (object oriented programming)\n",
    "   - used when working with Collection objects, like ArrayLists, where primitive types can not be used\n"
   ]
  },
  {
   "cell_type": "code",
   "execution_count": 8,
   "metadata": {
    "vscode": {
     "languageId": "java"
    }
   },
   "outputs": [],
   "source": [
    "class WrapperExample {\n",
    "    public static void main (String args[]){\n",
    "        int j = 100;\n",
    "        Integer k = new Integer(j);\n",
    "        System.out.println(j + \"\\n\" + k);\n",
    "    }\n",
    "}"
   ]
  },
  {
   "cell_type": "markdown",
   "metadata": {},
   "source": [
    "-------\n",
    "\n",
    "## Unit 2: Using Objects \n",
    "### Object Oriented Programming (OOP)\n",
    "- programming paradigm centered around creating objects\n",
    "- Object\n",
    "   - State, attributes, behavior\n",
    "   - Instance of a class\n",
    "   - Represented by an instance in the program\n",
    "\n",
    "- Class\n",
    "   - Defines an abstract data type\n",
    "   - Object references\n",
    "       - String variables\n",
    "   - Instance Variables\n",
    "       - Attributes, behaviors\n",
    "       - Data for objects\n",
    "\n",
    "### Methods and Constructors\n",
    "- Methods\n",
    "   - behaviors or methods that apply to the objects\n",
    "- Constructors\n",
    "   - creates the object\n",
    "\n",
    "### Main Method\n",
    "- Main Method\n",
    "   - Tests the class\n",
    "   - Instance variables\n",
    "\n",
    "\n",
    "### Concatenation\n",
    "- concatenation: the joining of data\n",
    "- examples: string concatenation with the toString() method\n",
    "\n"
   ]
  },
  {
   "cell_type": "code",
   "execution_count": 9,
   "metadata": {
    "vscode": {
     "languageId": "java"
    }
   },
   "outputs": [
    {
     "name": "stdout",
     "output_type": "stream",
     "text": [
      "My Name: Shreya Ahuja\n",
      "My Age: 16\n"
     ]
    }
   ],
   "source": [
    "String name = \"Shreya Ahuja\"; Integer age = new Integer(16);\n",
    "System.out.println(\"My Name: \" + name);\n",
    "System.out.println(\"My Age: \" + age.toString()); // converts integer to string"
   ]
  },
  {
   "cell_type": "markdown",
   "metadata": {},
   "source": [
    "### Math Class (Random Usage) \n",
    "- Math Class: contains methods from the java.lang package\n",
    "   - floor, roof, exponents, rounding, logs that are not in Java by default \n",
    "- static methods so can be called by using ClassName.methodName()\n"
   ]
  },
  {
   "cell_type": "code",
   "execution_count": 12,
   "metadata": {
    "vscode": {
     "languageId": "java"
    }
   },
   "outputs": [
    {
     "name": "stdout",
     "output_type": "stream",
     "text": [
      "Exponentional: 1000.0\n",
      "Logarithms: 0.6931471805599453\n",
      "Ceiling Function: 11.0\n",
      "Rounding: 16\n",
      "Random Number: 0.34161583759006364\n"
     ]
    }
   ],
   "source": [
    "// Exponents\n",
    "System.out.println(\"Exponentional: \" + Math.pow(10, 3));\n",
    "\n",
    "// Logarithms in base 10\n",
    "System.out.println(\"Logarithms: \" + Math.log(2));\n",
    "\n",
    "// Ceiling Function\n",
    "System.out.println(\"Ceiling Function: \" +Math.ceil(10.999999999));\n",
    "\n",
    "// Rounding\n",
    "System.out.println(\"Rounding: \" + Math.round(15.546432));\n",
    "\n",
    "// Random (generates random number between values 0 & 1)\n",
    "System.out.println(\"Random Number: \" + Math.random());"
   ]
  },
  {
   "cell_type": "markdown",
   "metadata": {},
   "source": [
    "----\n",
    "## Unit 3: Boolean Expressions and If Statements\n",
    "### Boolean Expressions\n",
    "- Boolean: a logical statement that evaluates to either true or false\n",
    "   - can compare any type of data is both of the parts are the same basic data type (example: int, int)\n",
    "- Non-Zero Numbers are true\n",
    "   - 1 = true and 0 = false\n",
    "- Operators\n",
    "   - == checks for comparison\n",
    "   - != checks for inequality\n",
    "   - <, >, >=, <=\n",
    "   - || relates to the or function\n",
    "   - && related to and function\n",
    "\n",
    "### Compound Boolean Expressions\n",
    "- using combinations of boolean operators\n",
    "- ||, &&, and ! can be used\n",
    "\n"
   ]
  },
  {
   "cell_type": "code",
   "execution_count": 13,
   "metadata": {
    "vscode": {
     "languageId": "java"
    }
   },
   "outputs": [
    {
     "name": "stdout",
     "output_type": "stream",
     "text": [
      "false\n"
     ]
    }
   ],
   "source": [
    "boolean a = true;\n",
    "boolean b = false;\n",
    "\n",
    "// Creating a compound expression\n",
    "boolean compound = !(a && b) && (b || a) && (!b && !a);\n",
    "\n",
    "// Printing the result\n",
    "System.out.println(compound);"
   ]
  },
  {
   "cell_type": "markdown",
   "metadata": {},
   "source": [
    "### Logic Gates\n",
    "- Buffer/YES : output is the same as the input\n",
    "- NOT : output is the opposite of the input\n",
    "- AND : returns true if both inputs are true\n",
    "- NAND : returns false if both inputs are true\n",
    "- OR : returns true if at least one of the inputs are true, returns false if both inputs are false\n",
    "- NOR : returns false if at least one of the inputs are true, returns true if both inputs are false\n",
    "- XOR : returns true if the two inputs are different\n",
    "- XNOR : returns true if two inputs are the same\n",
    "<br>\n",
    "![logic gates](https://www.howtogeek.com/wp-content/uploads/csit/2021/05/22e2d43d.png?width=398&trim=1,1&bg-color=000&pad=1,1)\\\n",
    "<br>\n",
    "\n",
    "### Truth Tables\n",
    "- truth table: a breakdown of a logic function by listing all possible values the function can attain\n",
    "   - contains several rows and columns with the top row representing the logical variables and combination\n",
    "<br>\n",
    "![This is an image](https://github.com/tangalice/alicetang/blob/master/images/TruthTable.png?raw=true)\\\n",
    "<br>\n",
    "\n",
    "### De Morgan's Law\n",
    "- tells us how to transform logical expressions using the NOT operator\n",
    "   - (not(A and B)) is equal to (not A or not B) (not(A or B)) is equal to (not A and not B) (not(A and B)) is not equal to (not A and not B)\n",
    "\n",
    "\n"
   ]
  },
  {
   "cell_type": "code",
   "execution_count": 17,
   "metadata": {
    "vscode": {
     "languageId": "java"
    }
   },
   "outputs": [
    {
     "name": "stdout",
     "output_type": "stream",
     "text": [
      "x and y are true!\n",
      "x and y are true!\n"
     ]
    }
   ],
   "source": [
    "boolean x = true;\n",
    "boolean y = true;\n",
    "\n",
    "if (!(x && y)){\n",
    "    System.out.println(\"x and y both are false!\");\n",
    "}\n",
    "else{\n",
    "    System.out.println(\"x and y are true!\");\n",
    "}\n",
    "\n",
    "if (!x || !y){\n",
    "    System.out.println(\"x and y both are false!\");\n",
    "}\n",
    "else{\n",
    "    System.out.println(\"x and y are true!\");\n",
    "}"
   ]
  },
  {
   "cell_type": "markdown",
   "metadata": {},
   "source": [
    "### Comparing Methods\n",
    "- comparing numbers: compare () mehtods of the Integer class that compares to integer values given as a parameter\n",
    "   - returns the value zero is (x==y), returns less than 0 is (x < y) and returns greater than zero if (x > y)\n",
    "- comparing strings: if (string1 > string2) it returns a positive value. If (string1 == string2) it returns 0. If (string1 < string2) it returns a negative value\n",
    "- Comparing objects: == and != operators"
   ]
  },
  {
   "cell_type": "code",
   "execution_count": 14,
   "metadata": {
    "vscode": {
     "languageId": "java"
    }
   },
   "outputs": [
    {
     "name": "stdout",
     "output_type": "stream",
     "text": [
      "-1\n"
     ]
    }
   ],
   "source": [
    "int a = 10;\n",
    "int b = 20;\n",
    "  \n",
    "// as 10 less than 20, Output will be a value less than zero\n",
    "System.out.println(Integer.compare(a, b));"
   ]
  },
  {
   "cell_type": "markdown",
   "metadata": {},
   "source": [
    "----\n",
    "## Unit 4: Iteration Loops\n",
    "\n",
    "### While Loop/Do While Loop\n",
    "- While Loop: a sequence of code that loops itself while a specified condition is __ condition is no longer true then the loop will stop. \n",
    "- Do While Loop: similar, but guaranteed to execute at least one time"
   ]
  },
  {
   "cell_type": "code",
   "execution_count": 19,
   "metadata": {
    "vscode": {
     "languageId": "java"
    }
   },
   "outputs": [
    {
     "name": "stdout",
     "output_type": "stream",
     "text": [
      "0\n",
      "2\n",
      "4\n",
      "6\n",
      "8\n",
      "inside do-while loop\n"
     ]
    }
   ],
   "source": [
    "int i = 0;\n",
    "boolean falseBool = false;\n",
    "\n",
    "// printing even numbers with while loop\n",
    "while (i < 10) {\n",
    "  System.out.println(i);\n",
    "  i += 2;\n",
    "}\n",
    "\n",
    "// if condition is false while loop does not run at all\n",
    "while (falseBool) {\n",
    "  System.out.println(\"inside while loop\");\n",
    "}\n",
    "\n",
    "// if condition is false in do while, the loop runs once\n",
    "do {\n",
    "  System.out.println(\"inside do-while loop\");\n",
    "} while (falseBool);"
   ]
  },
  {
   "cell_type": "markdown",
   "metadata": {},
   "source": [
    "### For Loop/Enhanced For Loop\n",
    "- for loop: used to iterate through an index and modify it in different ways in the loop decleration\n",
    "- enhanced for loop: used for iterating through something like an array"
   ]
  },
  {
   "cell_type": "code",
   "execution_count": 22,
   "metadata": {
    "vscode": {
     "languageId": "java"
    }
   },
   "outputs": [
    {
     "name": "stdout",
     "output_type": "stream",
     "text": [
      "i is 0\n",
      "i is 1\n",
      "i is 2\n",
      "i is 3\n",
      "i is 4\n"
     ]
    }
   ],
   "source": [
    "public class WhileLoop \n",
    "{\n",
    "    public static void main(String[] args) \n",
    "    {\n",
    "        int i = 0;\n",
    "        //convert to for loop\n",
    "        while (i < 5)\n",
    "        {\n",
    "            System.out.println(\"i is \" + i);\n",
    "            i++;\n",
    "        }\n",
    "    }\n",
    "}\n",
    "\n",
    "WhileLoop.main(null);\n",
    "  "
   ]
  },
  {
   "cell_type": "markdown",
   "metadata": {},
   "source": [
    "### Recursion Loop\n",
    "- similar to For Loop and While Loop\n",
    "   -  recursion also repeats itself over and over again\n",
    "-  The difference is that for recursion, a function calls itself to repeat \n",
    "\n",
    "### Nested Iteration\n",
    "- not a Java method, it is a technique\n",
    "- you are putting a loop inside of a loop\n"
   ]
  },
  {
   "cell_type": "code",
   "execution_count": 23,
   "metadata": {
    "vscode": {
     "languageId": "java"
    }
   },
   "outputs": [
    {
     "name": "stdout",
     "output_type": "stream",
     "text": [
      "1 2 3 \n",
      "4 5 6 \n",
      "7 8 9 \n"
     ]
    }
   ],
   "source": [
    "int[][] arr = {\n",
    "    {1, 2, 3},\n",
    "    {4, 5, 6},\n",
    "    {7, 8, 9}\n",
    "  };\n",
    "  \n",
    "  // using nested for loops for 2D array\n",
    "  for (int i = 0; i<arr.length; i++) {\n",
    "    for (int j = 0; j<arr[i].length; j++) {\n",
    "      System.out.print(arr[i][j] + \" \");\n",
    "    }\n",
    "    System.out.println();\n",
    "  }"
   ]
  },
  {
   "cell_type": "markdown",
   "metadata": {},
   "source": [
    "----\n",
    "## Unit 5: Writing Classes\n",
    "### Anatomy of a Class\n",
    "- Object\n",
    "   - State, attributes, behavior\n",
    "   - Instance of a class\n",
    "   - Represented by an instance in the program\n",
    "\n",
    "- Class\n",
    "   - Defines an abstract data type\n",
    "   - Object references\n",
    "       - String variables\n",
    "   - Instance Variables\n",
    "       - Attributes, behaviors\n",
    "       - Data for objects\n",
    "\n",
    "![image](https://runestone.academy/ns/books/published/csawesome/_images/personClassDefn.png)\n",
    "\n",
    "\n",
    "### Methods and Constructors\n",
    "- Methods\n",
    "   - behaviors or methods that apply to the objects\n",
    "- Constructors\n",
    "   - creates the object\n",
    "\n",
    "\n",
    "### Main Method\n",
    "- Main Method\n",
    "   - Tests the class\n",
    "   - Instance variables\n",
    "\n",
    "### Constructors\n",
    "- Special method for object instantiation\n",
    "    - Sets initial values for variables\n",
    "    - Can run methods\n",
    "- Default Constructor\n",
    "    - No constructor defined\n",
    "    - No arguments\n",
    "- Can have multiple constructors per class\n",
    "\n",
    "### Accessor Methods\n",
    "- Get of methods or getters\n",
    "    - Allows you to ‘get’ values of variables\n",
    "    - Returns a copy of variable\n",
    "- Non-Void Methods \n",
    "    - Return a value of specified data type\n",
    "    - No parameters\n",
    "\n"
   ]
  },
  {
   "cell_type": "code",
   "execution_count": null,
   "metadata": {
    "vscode": {
     "languageId": "java"
    }
   },
   "outputs": [],
   "source": [
    "public String getVariable(){\n",
    "\n",
    "}"
   ]
  },
  {
   "cell_type": "markdown",
   "metadata": {},
   "source": [
    "### Mutator Methods\n",
    "- Set of methods or setters\n",
    "    - Allows you to change the values of instance variables\n",
    "- Void methods \n",
    "    - Will not return a value\n",
    "    - Will take parameters for instance variables"
   ]
  },
  {
   "cell_type": "code",
   "execution_count": null,
   "metadata": {
    "vscode": {
     "languageId": "java"
    }
   },
   "outputs": [],
   "source": [
    "public void setVariable(String variable){\n",
    "    this.variable = variable;\n",
    "}"
   ]
  },
  {
   "cell_type": "markdown",
   "metadata": {},
   "source": [
    "### Writing Methods\n",
    "- 3 Parts:\n",
    "    - Method Definition (Modifiers, Return Type)\n",
    "    - Method Signature (Name, Parameters)\n",
    "    - Method Body (Code)\n",
    "- camelCase\n",
    "- Object.method()\n",
    "\n",
    "### Method Return Types\n",
    "- String\n",
    "    - Returns a string\n",
    "- Int\n",
    "    - Returns an integer\n",
    "- Bool\n",
    "    - Returns a Boolean\n",
    "- Any Object Type\n",
    "    - Returns specified Object\n",
    "- Void\n",
    "    - Method have any return values\n",
    "\n",
    "### Static Modifier\n",
    "- Key word usually used after access modifiers\n",
    "- Denotes as belonging to a class\n",
    "- Objects cannot reference/use static variables & methods\n",
    "- Universally shared variables and methods among objects\n",
    "\n",
    "### This Keyword\n",
    "- Refers to the constructor that it is being called in\n",
    "- Eliminates confusion between attributes and parameters\n",
    "\n",
    "### Access Modifiers\n",
    "- Restricts scope of classes, variables, and functions\n",
    "- Mainly used for encapsulation\n",
    "- Prevents misuse of data & methods\n",
    "<br>\n",
    "\n",
    "![This is an image](https://media.geeksforgeeks.org/wp-content/uploads/20220504160344/ModifiersTypesInJavapng.jpg)\n",
    "<br>\n",
    "\n",
    "### Public, Private, Protected\n",
    "- Public: can be accessed within and outside of a class\n",
    "- Private: can only be accessed within the class\n",
    "- Protected: can be accessed by all classes in the package and all subclass outside of the package\n",
    "<br>\n",
    "\n",
    "![image](https://aadyadaita.github.io/apcsa_indiv_repo_tri1/assets/img/2022-12-04-all-vocab/media/image30.png)\n",
    "\n",
    "### Inheritance\n",
    "- method to create a hierarchy between classes by inheriting from other classes\n",
    "- Extends is what allows you to bring those attributes from one class to another\n",
    "   - example: fibonacci code\n",
    "\n",
    "<br>\n",
    "\n",
    "![image2](https://aadyadaita.github.io/apcsa_indiv_repo_tri1/assets/img/2022-12-04-all-vocab/media/image3.png)\n",
    "\n",
    "### Subclass\n",
    "- A subclass inherits all the members from the superclass while the constructor of the superclass can be invoked from the subclass\n",
    "- Super keyword refers to superclass objects; it is used to call superclass methods and to access the superclass constructor\n",
    "\n",
    "\n",
    "### Abstract Class and Method\n",
    "- Abstract Class: can not be instantiated by they can be subclassed\n",
    "- Abstract Method: a method that has the method definition but no implementation\n",
    "\n",
    "\n",
    "### Standard Methods\n",
    "- Standard methods are blocks of code that can be called from another location in the program or class\n",
    "   - toString(); returns the given value in string format\n",
    "   - equals(); compares two strings and returns true if the strings are equal\n",
    "   - hashCode(); returns an integer value generated by a hashing algorithm\n",
    "\n",
    "### Polymorphism\n",
    "- Polymorphism: the ability of a class to provide different implementations of a method depending on the type of object that is passed to the method\n",
    "- allows us to perform the same action in many different ways\n",
    "\n",
    "### Big O Notation\n",
    "- Big O notation describes the set of all algorithms that run no worse than a certain speed, no better than a certain speed, and at a certain speed\n",
    "   - Shows the number of operations it will perform\n",
    "\n",
    "![image3](https://cdn-media-1.freecodecamp.org/images/1*KfZYFUT2OKfjekJlCeYvuQ.jpeg)\n",
    "\n"
   ]
  }
 ],
 "metadata": {
  "kernelspec": {
   "display_name": "Java",
   "language": "java",
   "name": "java"
  },
  "language_info": {
   "codemirror_mode": "java",
   "file_extension": ".jshell",
   "mimetype": "text/x-java-source",
   "name": "Java",
   "pygments_lexer": "java",
   "version": "11.0.16.1+0"
  },
  "orig_nbformat": 4,
  "vscode": {
   "interpreter": {
    "hash": "aee8b7b246df8f9039afb4144a1f6fd8d2ca17a180786b69acc140d282b71a49"
   }
  }
 },
 "nbformat": 4,
 "nbformat_minor": 2
}
