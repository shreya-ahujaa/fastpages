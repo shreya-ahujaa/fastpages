{
 "cells": [
  {
   "cell_type": "markdown",
   "metadata": {},
   "source": [
    "# \"Unit 3: Boolean Expressions and If Statements (Collegeboard)\"\n",
    "\n",
    "- toc:true\n",
    "- branch: master\n",
    "- badges: true\n",
    "- comments: true\n",
    "- author: Shreya Ahuja\n",
    "- categories: [fastpages, notes, booleans, if]"
   ]
  },
  {
   "cell_type": "markdown",
   "metadata": {},
   "source": [
    "## Boolean Expressions\n",
    "- all non zero numbers are true\n",
    "   - the most common example: 1 = true; 0 = false\n",
    "- == checks for comparison\n",
    "   - not to be confused with = which is assignment\n",
    "- != checks for inequality\n",
    "- <, >, >=, <=\n",
    "   - these operands do their normal functions\n",
    "- || relates to the or function\n",
    "- && related to and function\n",
    "\n",
    "\n",
    "## Logic Gates\n",
    "- Buffer/YES : output is the same as the input\n",
    "- NOT : output is the opposite of the input\n",
    "- AND : returns true if both inputs are true\n",
    "- NAND : returns false if both inputs are true\n",
    "- OR : returns true if at least one of the inputs are true, returns false if both inputs are false\n",
    "- NOR : returns false if at least one of the inputs are true, returns true if both inputs are false\n",
    "- XOR : returns true if the two inputs are different\n",
    "- XNOR : returns true if two inputs are the same\n",
    "\n",
    "## Truth Tables\n",
    "- A truth table is a breakdown of a logic function by listing all possible values the function can attain. Such a table typically contains several rows and columns, with the top row representing the logical variables and combinations, in increasing complexity leading up to the final function."
   ]
  },
  {
   "cell_type": "markdown",
   "metadata": {},
   "source": [
    "## Homework: AP Exam FRQs\n",
    "\n",
    "### 2009 FRQ 3B\n",
    "Write the BatteryCharger method getChargeStartTime that returns the start time that will allow the battery to be charged at minimal cost. If there is more than one possible start time that produces the minimal cost, any of those start times can be returned.\n",
    "   For example, using the rate table given at the beginning of the question, the following table shows the\n",
    "resulting minimal costs and optimal starting hour of several possible charges. "
   ]
  },
  {
   "cell_type": "code",
   "execution_count": null,
   "metadata": {
    "vscode": {
     "languageId": "java"
    }
   },
   "outputs": [],
   "source": [
    "// @param chargeTime the number of hours the battery needs to be charged\n",
    "\n",
    "public int getChargeStartTime(int chargeTime)  // determines start time to charge battery at lowest cost \n",
    "{\n",
    " int startTime = 0;\n",
    " for (int i = 1; i < 24; i++)  // iterate through the differeant start times with a returned values <= 23\n",
    " {\n",
    " if (this.getChargingCost(i, chargeTime)\n",
    " < this.getChargingCost(startTime, chargeTime))\n",
    " {\n",
    " startTime = i;\n",
    " }\n",
    " }\n",
    " return startTime;\n",
    "} "
   ]
  },
  {
   "cell_type": "markdown",
   "metadata": {},
   "source": [
    "### 2017 FRQ 1B\n",
    "\n",
    "Write the Digits method isStrictlyIncreasing. The method returns true if the elements of digitList appear in strictly increasing order; otherwise, it returns false. A list is considered strictly increasing if each element after the first is greater than (but not equal to) the preceding element. "
   ]
  },
  {
   "cell_type": "code",
   "execution_count": null,
   "metadata": {
    "vscode": {
     "languageId": "java"
    }
   },
   "outputs": [],
   "source": [
    "public boolean isStrictlyIncreasing(){\n",
    "    for(int i = 1; i < digitList.size(); i++){  // iterate through the digits in digitList\n",
    "        if (digitList.get(i-1).compareTo(digitList.get(i)) >= 0){\n",
    "            return false;\n",
    "        }\n",
    "        else{\n",
    "            return true;\n",
    "        }\n",
    "    }\n",
    "}"
   ]
  },
  {
   "cell_type": "markdown",
   "metadata": {},
   "source": [
    "### 2019 FRQ 3B\n",
    "- Write the method isBalanced, which returns true when the delimiters are balanced and returns false otherwise. The delimiters are balanced when both of the following conditions are satisfied; otherwise, they are not balanced.\n",
    "      1. When traversing the ArrayList from the first element to the last element, there is no point at\n",
    "which there are more close delimiters than open delimiters at or before that point.\n",
    "      2. The total number of open delimiters is equal to the total number of close delimiters.\n",
    "- Consider a Delimiters object for which openDel is \"<sup>\" and closeDel is \"</sup>\". The examples below show different ArrayList objects that could be returned by calls to getDelimitersList and the value that would be returned by a call to isBalanced. "
   ]
  },
  {
   "cell_type": "code",
   "execution_count": null,
   "metadata": {
    "vscode": {
     "languageId": "java"
    }
   },
   "outputs": [],
   "source": [
    "public boolean isBalanced(ArrayList<String> delimiters) {\n",
    "    int open = 0;\n",
    "    int close = 0;\n",
    "    for (String d: delimiters) {\n",
    "        if (d.equals(openDel)) {\n",
    "            open++;\n",
    "        } else if (d.equals(closeDel)) {\n",
    "            close++;\n",
    "        }\n",
    "\n",
    "        if (close > open) return false; \n",
    "    }\n",
    "    return open == close; \n",
    "}"
   ]
  }
 ],
 "metadata": {
  "kernelspec": {
   "display_name": "Java",
   "language": "java",
   "name": "java"
  },
  "language_info": {
   "codemirror_mode": "java",
   "file_extension": ".jshell",
   "mimetype": "text/x-java-source",
   "name": "Java",
   "pygments_lexer": "java",
   "version": "11.0.16.1+0"
  },
  "orig_nbformat": 4
 },
 "nbformat": 4,
 "nbformat_minor": 2
}
