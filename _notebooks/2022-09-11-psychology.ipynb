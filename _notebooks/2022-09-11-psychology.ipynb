{
 "cells": [
  {
   "cell_type": "markdown",
   "metadata": {},
   "source": [
    "# \"Focus and Habits\"\n",
    "- toc:true\n",
    "- branch: master\n",
    "- badges: true\n",
    "- comments: true\n",
    "- author: Shreya Ahuja\n",
    "- categories: [fastpages, notes, health, psychology]"
   ]
  },
  {
   "cell_type": "markdown",
   "metadata": {},
   "source": [
    "## Key Ideas from Video\n",
    "\n",
    "\n",
    "-  We think life's circumstances matter a lot, but they don't matter as much as we think\n",
    "    - people do not think as much as we do\n",
    "    - things like where we live, and what job we have do not matter in our happiness levels \n",
    "    - people who focus on having money are oftentimes not happy later when they do have money\n",
    "    - what we predict is going to make us happy, doesn't usually make us happy\n",
    "- Taking control of our life is oftentimes much harder than we think\n",
    "    - you can become happier, but it takes daily work and a lot of effort\n",
    "    - \"It may be obvious that to achieve anything substantial in life, a good deal of effort is required. Research reveals that if you want to achieve happiness, you will need to go about it in a similar way\"\n",
    "- One of the hard you have to do when you begin this enterprise, is recognizing your intuition don't work \n",
    "    - your mind is lying to you a lot of the time \n",
    "    - we can forecast things that are going to make us happy, and usually it does not make us as happy as we assume\n",
    "    - one example of this: money and salary\n",
    "- Make time for social connection \n",
    "   - having a healthy mental health is very important\n",
    "   - in order to do so, we should find time to have social connections with others\n",
    "   - prioritize people that you care about in life\n",
    "- Always help others in any situation\n",
    "   - helping others help us more than we expect\n",
    "   - very happy people give their time to others (much more powerful that doing things for yourself)\n",
    "   - for example: instead of spending money for themselves, give it to other people\n",
    "- Make time for gratitude \n",
    "   - simple act of doing this is very powerful\n",
    "   - think of the positives rather than focusing on the negatives of life\n",
    "   - focus on the benefits (force yourself to do this --> will make you happier)\n",
    "   - write down everyday everything you are grateful for\n",
    "- Healthy practices matter a lot more than we think \n",
    "   - experiencing gratitude\n",
    "   - be mindful in the moment (meditation)\n",
    "   - taking time for sleep and exercise\n",
    "- It is very important to take time to be in the present moment\n",
    "   - most of us have trouble with this because we do not have time to realize that we are here\n",
    "   - we do not think of all the small details about where we are, we do not live in the moment"
   ]
  },
  {
   "cell_type": "markdown",
   "metadata": {},
   "source": [
    "## Gratitude List\n",
    "\n",
    "- family who loves and supports me\n",
    "- MILO\n",
    "- friends who are always willing to help\n",
    "- my health\n",
    "- food and water (basic necessities)\n",
    "- a home and a roof above my head\n",
    "- a good education\n",
    "- volleyball\n",
    "- my teammates who always support and encourage me \n",
    "- good weather\n",
    "- weekends\n",
    "- taking time to watch and experience sunsets \n",
    "- my overall life :)"
   ]
  },
  {
   "cell_type": "markdown",
   "metadata": {},
   "source": [
    "## Goals\n",
    "\n",
    "- try to focus more on the good in life, rather than what may not be going as well\n",
    "- spend more time on working on my mental health\n",
    "- taking care of myself both physically and mentally\n",
    "- continue to work hard towards my goals\n",
    "- do things that are out of my comfort zone\n",
    "- do more things to make me happy"
   ]
  }
 ],
 "metadata": {
  "kernelspec": {
   "display_name": "Python 3.9.6 64-bit",
   "language": "python",
   "name": "python3"
  },
  "language_info": {
   "name": "python",
   "version": "3.9.6"
  },
  "orig_nbformat": 4,
  "vscode": {
   "interpreter": {
    "hash": "aee8b7b246df8f9039afb4144a1f6fd8d2ca17a180786b69acc140d282b71a49"
   }
  }
 },
 "nbformat": 4,
 "nbformat_minor": 2
}
