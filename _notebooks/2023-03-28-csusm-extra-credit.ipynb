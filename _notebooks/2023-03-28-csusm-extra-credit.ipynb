{
 "cells": [
  {
   "attachments": {},
   "cell_type": "markdown",
   "metadata": {},
   "source": [
    "# \"Data Types Lecture and Hacks\"\n",
    "\n",
    "- toc:true\n",
    "- branch: master\n",
    "- badges: true\n",
    "- comments: true\n",
    "- author: Shreya Ahuja\n",
    "- categories: [fastpages, notes, extracredit]"
   ]
  },
  {
   "attachments": {},
   "cell_type": "markdown",
   "metadata": {},
   "source": [
    "## Overall Thoughts and Reflection\n",
    "\n",
    "The presentation given by the Cal State University San Marcos alumni was very informative and engaging, and helped me learn more about things that will be very applicable in my future. Although the goal may have been to promote CSUSM, I am still grateful for the things I have learned from this presentation. The presenters were CSUSM alumni and ambassadors of the university, and shared their stories and experiences, allowing the presentation to be applicable and inspiring towards my own personal life.\n",
    "\n",
    "Each of the presenters explained their pathways through college, and gave us some insights into their lives. Ashley explained how computer science has greatly impacted her life and is much more applicable in the real world than what we may imagine. She uses it on a daily basis and talked about how she uses computer science in her major of Applied Physics, showing that computer science is commonly used in almost every field. She also explained how she majored in Applied Physics despite failing ehr AP Physics class in high school. Although I am not failing any of my classes, this resonated with me because it shows that it is still possible to pursue careers in fields which I may struggle in now. For example, I am interested in computer science, and although I am not the best at it, I still want to pursue something in this field and get better in it as time goes on. John, the other speaker, also explained how CSUSM gave him many opportunities that were not always present at his previous school, Palomar College. \n",
    "\n",
    "The presenters also provided valuable information about Cal State University San Marcos and the opportunities and various majors available/provided to students attending this school. They offer many majors such as Applied Physics, Software Engineering, Electrical Engineering, Biotechnology, Computer Science, and much more. The presenters also talked about the various clubs and organizations available to students that are created in order to help students gain more exposure in their interests. This helped me understand the opportunities available and the various pathways students can look into if they go to CSUSM, or many other colleges as well.\n",
    "\n",
    "Along with this, Ashley and John provided practical advice on how to find internships and programs, which includes joining clubs, checking emails, attending campus events, and using Google to search for opportunities. They emphasized the importance of connecting to similar minded people around us and networking. They also spoke strongly about how unpaid internships were not worth it, as they believed we should be getting in something for the effort we put in. They also gave multiple examples of programs that were helpful.. This part of the presentation was very informative and helped show me that there are many opportunities that I have. I need to take advantage of the various opportunities available to me, and continue to make valuable connections that will allow me to gain more avenues of knowledge and growth as well.\n",
    "\n",
    "The presentation also covered the topic of paying for college. Ashley and John talked about the two types of loans available, subsidized and unsubsidized, and the various scholarships and grants available to students. This was very informative and interesting as it gave me more information about the resources I should be using in order to achieve success. \n",
    "Overall, this presentation was very informative and inspiring and gave me insight towards what I should be focusing on in my own life. I need to take charge of my own success and look for opportunities around me, rather than waiting for them to come to me. I learned about the importance of proactiveness, and was extremely grateful for what I had learned in this valuable presentation.\n",
    "\n",
    "\n"
   ]
  }
 ],
 "metadata": {
  "language_info": {
   "name": "python"
  },
  "orig_nbformat": 4
 },
 "nbformat": 4,
 "nbformat_minor": 2
}
