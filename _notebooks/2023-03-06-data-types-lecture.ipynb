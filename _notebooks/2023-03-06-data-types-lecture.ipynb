{
 "cells": [
  {
   "attachments": {},
   "cell_type": "markdown",
   "metadata": {},
   "source": [
    "# \"Data Types Lecture\"\n",
    "\n",
    "- toc:true\n",
    "- branch: master\n",
    "- badges: true\n",
    "- comments: true\n",
    "- author: Shreya Ahuja\n",
    "- categories: [fastpages, notes, inheritance]\n",
    "\n",
    "## Initial Extra Credit on Seed "
   ]
  },
  {
   "cell_type": "code",
   "execution_count": 1,
   "metadata": {
    "vscode": {
     "languageId": "java"
    }
   },
   "outputs": [
    {
     "name": "stdout",
     "output_type": "stream",
     "text": [
      "1001\n"
     ]
    }
   ],
   "source": [
    "public class BinaryAddition {\n",
    "    public static String add(String byte1, String byte2){\n",
    "        return Integer.toBinaryString(Integer.parseInt(byte1, 2) + Integer.parseInt(byte2, 2));\n",
    "    }\n",
    "    public static void main(String [] args){\n",
    "        System.out.println(add(\"101\", \"100\"));\n",
    "    }\n",
    "}\n",
    "BinaryAddition.main(null);"
   ]
  },
  {
   "attachments": {},
   "cell_type": "markdown",
   "metadata": {},
   "source": [
    "## Example Code Learned in Class"
   ]
  },
  {
   "cell_type": "code",
   "execution_count": 1,
   "metadata": {
    "vscode": {
     "languageId": "java"
    }
   },
   "outputs": [
    {
     "name": "stdout",
     "output_type": "stream",
     "text": [
      "Main method before changeInteger(n): n = 5 hash code = 5\n",
      "In changeInteger method\n",
      "\tBefore change: n = 5 hash code = 5\n",
      "\tAfter change: n = 15 hash code = 15\n",
      "Main method after changeInteger(n): n = 5 hash code = 5\n"
     ]
    }
   ],
   "source": [
    "public class IntegerByValueOrReference {\n",
    "    \n",
    "    public static void changeInteger(Integer n) {\n",
    "        System.out.println(\"In changeInteger method\");\n",
    "        System.out.println(\"\\tBefore change: n = \" + \n",
    "                            n + // prints 5\n",
    "                            \" hash code = \" + \n",
    "                            n.hashCode()); \n",
    "\n",
    "        n += 10;  // behind the scenes, this is:  n = new Integer(n+10)\n",
    "        \n",
    "        System.out.println(\"\\tAfter change: n = \" + \n",
    "                            n + // prints 15\n",
    "                            \" hash code = \" + \n",
    "                            n.hashCode()); \n",
    "    }\n",
    "\n",
    "    public static void main(String[] args) {\n",
    "        Integer n = 5;\n",
    "        System.out.println(\"Main method before changeInteger(n): n = \" + \n",
    "                            n + // prints 5\n",
    "                            \" hash code = \" + \n",
    "                            n.hashCode()); \n",
    "\n",
    "        changeInteger(n);\n",
    "        \n",
    "        System.out.println(\"Main method after changeInteger(n): n = \" + \n",
    "                            n +  // now prints 15\n",
    "                            \" hash code = \" + \n",
    "                            n.hashCode());     \n",
    "    }\n",
    "}\n",
    "IntegerByValueOrReference.main(null);"
   ]
  },
  {
   "cell_type": "code",
   "execution_count": 2,
   "metadata": {
    "vscode": {
     "languageId": "java"
    }
   },
   "outputs": [
    {
     "name": "stdout",
     "output_type": "stream",
     "text": [
      "Main method before changeAtomicInteger(n): n = 5 hash code = 639588921\n",
      "In changeAtomicInteger method\n",
      "\tBefore change: n = 5 hash code = 639588921\n",
      "\tAfter change: n = 15 hash code = 639588921\n",
      "Main method after changeAtomicInteger(n): n = 15 hash code = 639588921\n"
     ]
    }
   ],
   "source": [
    "import java.util.concurrent.atomic.AtomicInteger;\n",
    "\n",
    "public class PassByReference {\n",
    "    \n",
    "    public static void changeAtomicInteger(AtomicInteger n) {\n",
    "        System.out.println(\"In changeAtomicInteger method\");\n",
    "        System.out.println(\"\\tBefore change: n = \" + \n",
    "                            n + // prints 5\n",
    "                            \" hash code = \" + \n",
    "                            n.hashCode()); \n",
    "        n.set(n.get() + 10);  // at this point, we are clearly working with reference data type\n",
    "        System.out.println(\"\\tAfter change: n = \" + \n",
    "                            n + // prints 15\n",
    "                            \" hash code = \" + \n",
    "                            n.hashCode()); \n",
    "}\n",
    "\n",
    "    public static void main(String[] args) {\n",
    "        AtomicInteger n = new AtomicInteger(5); // unlike conventional wrapper class, this requires new\n",
    "        System.out.println(\"Main method before changeAtomicInteger(n): n = \" + \n",
    "                            n + // prints 5\n",
    "                            \" hash code = \" + \n",
    "                            n.hashCode()); \n",
    "        changeAtomicInteger(n);\n",
    "        System.out.println(\"Main method after changeAtomicInteger(n): n = \" + \n",
    "                            n +  // now prints 15\n",
    "                            \" hash code = \" + \n",
    "                            n.hashCode()); \n",
    "    }\n",
    "}\n",
    "PassByReference.main(null);"
   ]
  }
 ],
 "metadata": {
  "kernelspec": {
   "display_name": "Java",
   "language": "java",
   "name": "java"
  },
  "language_info": {
   "codemirror_mode": "java",
   "file_extension": ".jshell",
   "mimetype": "text/x-java-source",
   "name": "Java",
   "pygments_lexer": "java",
   "version": "11.0.16.1+0"
  },
  "orig_nbformat": 4,
  "vscode": {
   "interpreter": {
    "hash": "aee8b7b246df8f9039afb4144a1f6fd8d2ca17a180786b69acc140d282b71a49"
   }
  }
 },
 "nbformat": 4,
 "nbformat_minor": 2
}
