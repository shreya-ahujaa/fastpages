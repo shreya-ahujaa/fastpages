{
 "cells": [
  {
   "attachments": {},
   "cell_type": "markdown",
   "metadata": {},
   "source": [
    "# \"Data Types Lecture and Hacks\"\n",
    "\n",
    "- toc:true\n",
    "- branch: master\n",
    "- badges: true\n",
    "- comments: true\n",
    "- author: Shreya Ahuja\n",
    "- categories: [fastpages, notes, inheritance]\n"
   ]
  },
  {
   "attachments": {},
   "cell_type": "markdown",
   "metadata": {},
   "source": [
    "# Data Types Lecture and Hacks \n",
    "\n",
    "## Initial Extra Credit on Seed "
   ]
  },
  {
   "cell_type": "code",
   "execution_count": 1,
   "metadata": {
    "vscode": {
     "languageId": "java"
    }
   },
   "outputs": [
    {
     "name": "stdout",
     "output_type": "stream",
     "text": [
      "1001\n"
     ]
    }
   ],
   "source": [
    "public class BinaryAddition {\n",
    "    public static String add(String byte1, String byte2){\n",
    "        return Integer.toBinaryString(Integer.parseInt(byte1, 2) + Integer.parseInt(byte2, 2));\n",
    "    }\n",
    "    public static void main(String [] args){\n",
    "        System.out.println(add(\"101\", \"100\"));\n",
    "    }\n",
    "}\n",
    "BinaryAddition.main(null);"
   ]
  },
  {
   "attachments": {},
   "cell_type": "markdown",
   "metadata": {},
   "source": [
    "## Example Code Learned in Class"
   ]
  },
  {
   "cell_type": "code",
   "execution_count": 1,
   "metadata": {
    "vscode": {
     "languageId": "java"
    }
   },
   "outputs": [
    {
     "name": "stdout",
     "output_type": "stream",
     "text": [
      "Main method before changeInteger(n): n = 5 hash code = 5\n",
      "In changeInteger method\n",
      "\tBefore change: n = 5 hash code = 5\n",
      "\tAfter change: n = 15 hash code = 15\n",
      "Main method after changeInteger(n): n = 5 hash code = 5\n"
     ]
    }
   ],
   "source": [
    "public class IntegerByValueOrReference {\n",
    "    \n",
    "    public static void changeInteger(Integer n) {\n",
    "        System.out.println(\"In changeInteger method\");\n",
    "        System.out.println(\"\\tBefore change: n = \" + \n",
    "                            n + // prints 5\n",
    "                            \" hash code = \" + \n",
    "                            n.hashCode()); \n",
    "\n",
    "        n += 10;  // behind the scenes, this is:  n = new Integer(n+10)\n",
    "        \n",
    "        System.out.println(\"\\tAfter change: n = \" + \n",
    "                            n + // prints 15\n",
    "                            \" hash code = \" + \n",
    "                            n.hashCode()); \n",
    "    }\n",
    "\n",
    "    public static void main(String[] args) {\n",
    "        Integer n = 5;\n",
    "        System.out.println(\"Main method before changeInteger(n): n = \" + \n",
    "                            n + // prints 5\n",
    "                            \" hash code = \" + \n",
    "                            n.hashCode()); \n",
    "\n",
    "        changeInteger(n);\n",
    "        \n",
    "        System.out.println(\"Main method after changeInteger(n): n = \" + \n",
    "                            n +  // now prints 15\n",
    "                            \" hash code = \" + \n",
    "                            n.hashCode());     \n",
    "    }\n",
    "}\n",
    "IntegerByValueOrReference.main(null);"
   ]
  },
  {
   "cell_type": "code",
   "execution_count": 2,
   "metadata": {
    "vscode": {
     "languageId": "java"
    }
   },
   "outputs": [
    {
     "name": "stdout",
     "output_type": "stream",
     "text": [
      "Main method before changeAtomicInteger(n): n = 5 hash code = 639588921\n",
      "In changeAtomicInteger method\n",
      "\tBefore change: n = 5 hash code = 639588921\n",
      "\tAfter change: n = 15 hash code = 639588921\n",
      "Main method after changeAtomicInteger(n): n = 15 hash code = 639588921\n"
     ]
    }
   ],
   "source": [
    "import java.util.concurrent.atomic.AtomicInteger;\n",
    "\n",
    "public class PassByReference {\n",
    "    \n",
    "    public static void changeAtomicInteger(AtomicInteger n) {\n",
    "        System.out.println(\"In changeAtomicInteger method\");\n",
    "        System.out.println(\"\\tBefore change: n = \" + \n",
    "                            n + // prints 5\n",
    "                            \" hash code = \" + \n",
    "                            n.hashCode()); \n",
    "        n.set(n.get() + 10);  // at this point, we are clearly working with reference data type\n",
    "        System.out.println(\"\\tAfter change: n = \" + \n",
    "                            n + // prints 15\n",
    "                            \" hash code = \" + \n",
    "                            n.hashCode()); \n",
    "}\n",
    "\n",
    "    public static void main(String[] args) {\n",
    "        AtomicInteger n = new AtomicInteger(5); // unlike conventional wrapper class, this requires new\n",
    "        System.out.println(\"Main method before changeAtomicInteger(n): n = \" + \n",
    "                            n + // prints 5\n",
    "                            \" hash code = \" + \n",
    "                            n.hashCode()); \n",
    "        changeAtomicInteger(n);\n",
    "        System.out.println(\"Main method after changeAtomicInteger(n): n = \" + \n",
    "                            n +  // now prints 15\n",
    "                            \" hash code = \" + \n",
    "                            n.hashCode()); \n",
    "    }\n",
    "}\n",
    "PassByReference.main(null);"
   ]
  },
  {
   "attachments": {},
   "cell_type": "markdown",
   "metadata": {},
   "source": [
    "## Hacks\n",
    "\n",
    "### Small Code Excersice\n"
   ]
  },
  {
   "cell_type": "code",
   "execution_count": null,
   "metadata": {
    "vscode": {
     "languageId": "java"
    }
   },
   "outputs": [],
   "source": [
    "public class PrimitivesTest {\n",
    "    public static void main(String[] args) {\n",
    "      int[] array1;\n",
    "      array1 = new int[4];\n",
    "      array1[0] = 6;\n",
    "      array1[1] = 4;\n",
    "      array1[2] = 3;\n",
    "      array1[3] = 19;\n",
    "      for (int i = 0; i < array1.length; i++)\n",
    "      System.out.println(\"Element at index \" + i +  \" : \"+ array1[i]);\n",
    "    char[] array2;\n",
    "      array2 = new char[4];\n",
    "      array2[0] = 'm';\n",
    "      array2[1] = 'o';\n",
    "      array2[2] = 'r';\n",
    "      array2[3] = 't';\n",
    "      for (int i = 0; i < array2.length; i++)\n",
    "      System.out.println(array2[i]);\n",
    "    }\n",
    "    }\n",
    "    PrimitivesTest.main(null);"
   ]
  },
  {
   "cell_type": "code",
   "execution_count": 1,
   "metadata": {
    "vscode": {
     "languageId": "java"
    }
   },
   "outputs": [
    {
     "name": "stdout",
     "output_type": "stream",
     "text": [
      "[6, 4, 3, 19, 21, 45]\n",
      "[m, o, r, t]\n"
     ]
    }
   ],
   "source": [
    "public class WrapperTest {\n",
    "    public static void main(String[] args) {\n",
    "        ArrayList<Integer> values = new ArrayList<>(Arrays.asList(6, 4, 3, 19, 21, 45));\n",
    "        System.out.println(values);\n",
    "        ArrayList<Character> chars = new ArrayList<>(Arrays.asList('m', 'o', 'r', 't'));\n",
    "        System.out.println(chars);\n",
    "      }\n",
    "}\n",
    "WrapperTest.main(null);"
   ]
  },
  {
   "attachments": {},
   "cell_type": "markdown",
   "metadata": {},
   "source": [
    "### Exploring Teacher Code\n",
    "\n",
    "#### Methods and Control Structures\n",
    "- Methods\n",
    "  - methods are also known as functions and procedures\n",
    "  - they are blocks of code that perform specific tasks\n",
    "  - methods can be called from other parts of a program to perform the required task\n",
    "  - they can accept input parameters, process those inputs, and return an output\n",
    "  - for instance, if you have written instructions to draw a star in the method, it will do that task\n",
    "\n",
    "- Control Structures\n",
    "  - control structures can be considered as the building blocks of computer programs and describe the flow of execution of code\n",
    "  - they are commands that enable a program to make decisions and follow one path or another\n",
    "  - a program is usually not limited to a linear sequence of instructions as it can repeat code or bypass sections if they are not needed\n",
    "  - they control how many times a block of code is executed, which code is executed, and in what order\n",
    "\n",
    "- Types \n",
    "  - conditional statements: program makes decisions based on a condition (if/else, if/else if)\n",
    "  - loops: iterate/repeat code block (for/while/enhanced for)\n",
    "  - switch statements: select from several possible options based on a variable\n",
    "\n",
    "#### Diverse Array\n",
    "- the matrix code shown contains methods and control structures\n",
    "  - there are multiple methods that allow different processes to happen within the code\n",
    "  - there are also multiple control structures that control the execution of the matrix code (order and when things should happen)\n",
    "- Examples in Matrix Code\n",
    "  - loops\n",
    "  - for\n",
    "  - while\n",
    "  - if statements\n",
    "\n",
    "- Main Takeaway: Most code segment that we see and write include and are related to methods and control structures. It is very hard to have code with neither of these things included in them\n",
    "\n",
    "#### DoNothingByValue\n",
    "- changing a variable but the variable doesn't actually change because it is changing the subvalue/temporary value and not the actual value\n",
    "- changing a variable only happens at a large scale\n",
    "   - can not do it locally within this function/method\n"
   ]
  },
  {
   "cell_type": "code",
   "execution_count": 3,
   "metadata": {
    "vscode": {
     "languageId": "java"
    }
   },
   "outputs": [],
   "source": [
    "class Triple<T1, T2, T3> {\n",
    "    T1 one;\n",
    "    T2 two;\n",
    "    T3 three;\n",
    "\n",
    "    Triple(T1 one, T2 two, T3 three) {\n",
    "        this.one = one;\n",
    "        this.two = two;\n",
    "        this.three = three;\n",
    "    }\n",
    "\n",
    "    public T1 getOne() { return this.one; }\n",
    "    public void setOne(T1 one) { this.one = one; }\n",
    "\n",
    "    public T2 getTwo() { return this.two; }\n",
    "    public void setTwo(T2 two) { this.two = two; }\n",
    "\n",
    "    public T3 getThree() { return this.three; }\n",
    "    public void setThree(T3 three) { this.three = three; }\n",
    "}"
   ]
  },
  {
   "cell_type": "code",
   "execution_count": 4,
   "metadata": {
    "vscode": {
     "languageId": "java"
    }
   },
   "outputs": [],
   "source": [
    "public class DoNothingByValue {\n",
    "    public int[] arr;\n",
    "    public int val;\n",
    "    public String word;\n",
    "\n",
    "\n",
    "    // changed to show what is happening\n",
    "    public DoNothingByValue (int [] arr, int val, String word) {\n",
    "        this.arr = new int[5];\n",
    "        this.val = 0;\n",
    "        this.word = word.substring(0, 5);\n",
    "\n",
    "        System.out.print(\"constructor: \");\n",
    "        for (int k = 0; k < arr.length; k++) {\n",
    "            arr[k] = 0;                          // int array is initialized to 0's, not needed\n",
    "            System.out.print(arr[k] + \" \");\n",
    "\n",
    "        }\n",
    "        System.out.println(this.word);\n",
    "\n",
    "    }\n",
    "\n",
    "    // Local instance variables\n",
    "    // IntelliJ shows that something is wrong, calling the values passed as parameters as local\n",
    "    public static void changeIt(int [] arr, int val, String word) {\n",
    "        arr = new int[5];\n",
    "        val = 0;\n",
    "        word = word.substring(0, 5);\n",
    "\n",
    "        System.out.print(\"changeIt: \"); // added\n",
    "        for (int k = 0; k < arr.length; k++) {\n",
    "            arr[k] = 0;\n",
    "            System.out.print(arr[k] + \" \"); // added\n",
    "        }\n",
    "        System.out.println(word);   // added\n",
    "\n",
    "    }\n",
    "\n",
    "    // Variable name are Reference\n",
    "    // names of variables make no difference, they are just references to addresses\n",
    "    public static void changeIt2(int [] nums, int value, String name) {\n",
    "        nums = new int[5];           // new creates new memory address\n",
    "        value = 0;                   // primitives are pass by value\n",
    "        name = name.substring(0, 5); // all wrapper classes have automatic \"new\", same as word = new String(word.substring(0, 5));\n",
    "\n",
    "        // this loop changes nums locally\n",
    "        System.out.print(\"changeIt2: \");\n",
    "        for (int k = 0; k < nums.length; k++) {\n",
    "            nums[k] = 0;\n",
    "            System.out.print(nums[k] + \" \");\n",
    "        }\n",
    "        System.out.println(name);\n",
    "\n",
    "    }\n",
    "\n",
    "\n",
    "    // If you want to change values, think about Return values, but you are limited to one in Java\n",
    "    // changed to show what is happening\n",
    "    public static String changeIt3(int [] arr, String word) {\n",
    "        word = new String(word.substring(0, 5));    // wrapper class does a \"new\" on any assignment\n",
    "\n",
    "        System.out.print(\"changeIt3: \");\n",
    "        for (int k = 0; k < arr.length; k++) {\n",
    "            arr[k] = 0;                          // int array is initialized to 0's, not needed\n",
    "            System.out.print(arr[k] + \" \");\n",
    "\n",
    "        }\n",
    "        System.out.println(word);\n",
    "\n",
    "        return word;\n",
    "    }\n",
    "\n",
    "    // Variable inside of Object Triple are references\n",
    "    public static Triple<int[], Integer, String> changeIt4(Triple<int[], Integer, String> T) {\n",
    "        T.setOne(new int[5]);\n",
    "        T.setTwo(0);                   // primitives are pass by value\n",
    "        T.setThree(T.getThree().substring(0, 5)); // all wrapper classes have automatic \"new\", same as word = new String(word.substring(0, 5));\n",
    "\n",
    "        // this loop changes nums locally\n",
    "        System.out.print(\"changeIt4: \");\n",
    "        for (int i : T.getOne()) {\n",
    "            System.out.print(i + \" \");\n",
    "        }\n",
    "        System.out.println(T.getThree());\n",
    "\n",
    "        return T;\n",
    "    }\n",
    "\n",
    "\n",
    "    // Original method changed to main in order to be a Tester\n",
    "    public static void main(String[] args) {\n",
    "        // Does nothing\n",
    "        int [] nums = {1, 2, 3, 4, 5};\n",
    "        int value = 6;\n",
    "        String name = \"blackboard\";\n",
    "        System.out.println(\"Do Nothings\");\n",
    "        // dumb and useless\n",
    "        changeIt(nums, value, name);\n",
    "        // dumber and useless\n",
    "        changeIt2(nums, value, name);\n",
    "        System.out.print(\"main: \");\n",
    "        for (int k = 0; k < nums.length; k++) {\n",
    "            System.out.print (nums[k] + \" \");\n",
    "        }\n",
    "        System.out.print(value + \" \");\n",
    "        System.out.print(name);\n",
    "\n",
    "        System.out.println();\n",
    "        System.out.println();\n",
    "\n",
    "\n",
    "        // int[] by reference, return value  -- not complete\n",
    "        System.out.println(\"Limited return\");\n",
    "        int[] nums2 = {1, 2, 3, 4, 5};\n",
    "        value = 6;\n",
    "        name = \"limited\";\n",
    "        name = changeIt3(nums2, name);\n",
    "        System.out.print(\"main2: \");\n",
    "        for (int num : nums2) {\n",
    "            System.out.print(num + \" \");\n",
    "        }\n",
    "        System.out.print(value + \" \");\n",
    "        System.out.print(name);\n",
    "\n",
    "        System.out.println();\n",
    "        System.out.println();\n",
    "\n",
    "\n",
    "        // Class/Object\n",
    "        System.out.println(\"Do Something with Class\");\n",
    "        int[] nums3 = {1, 2, 3, 4, 5};\n",
    "        value = 6;\n",
    "        name = \"classy\";\n",
    "        DoNothingByValue doSomething = new DoNothingByValue(nums3, value, name);\n",
    "\n",
    "        System.out.print(\"main3: \");\n",
    "        for (int num : doSomething.arr) {      // should be teaching enhanced for loop on arrays\n",
    "            System.out.print(num + \" \");\n",
    "        }\n",
    "        System.out.print(doSomething.val + \" \");\n",
    "        System.out.print(doSomething.word);\n",
    "\n",
    "        System.out.println();\n",
    "        System.out.println();\n",
    "\n",
    "        // Generics\n",
    "        System.out.println(\"Do Something with Generics\");\n",
    "        int[] nums4 = {1, 2, 3, 4, 5};\n",
    "        value = 6;\n",
    "        name = \"generics\";\n",
    "        Triple<int[],Integer,String> tri = changeIt4(new Triple<>(nums4, value, name));\n",
    "\n",
    "        System.out.print(\"main: \");\n",
    "        for (int num : tri.getOne())\n",
    "            System.out.print (num + \" \");\n",
    "\n",
    "        System.out.print(tri.getTwo() + \" \");\n",
    "        System.out.print(tri.getThree());\n",
    "    }\n",
    "\n",
    "}\n",
    "\n",
    "// This class can be used to pass variables by reference\n"
   ]
  },
  {
   "attachments": {},
   "cell_type": "markdown",
   "metadata": {},
   "source": [
    "#### IntBy Reference\n",
    "- by using the IntByReference for objects a and b, integers are passed by reference, which allows for modifications of the values within the methods \n",
    "   - these changes can then be reflected outside of the method as well\n",
    "- swapping the integers as type int, which is a primitive, wouldn't allow for modifications in a method to be reflected outside the method which is important to have"
   ]
  },
  {
   "cell_type": "code",
   "execution_count": 5,
   "metadata": {
    "vscode": {
     "languageId": "java"
    }
   },
   "outputs": [
    {
     "name": "stdout",
     "output_type": "stream",
     "text": [
      "Before: 20 12\n",
      "After: 12 20\n",
      "\n",
      "Before: 12 20\n",
      "After: 12 20\n",
      "\n",
      "Before: 12 -2\n",
      "After: -2 12\n",
      "\n"
     ]
    }
   ],
   "source": [
    "import java.util.Scanner;\n",
    "\n",
    "public class IntByReference {\n",
    "    private int value;\n",
    "\n",
    "    // all-arg constructor\n",
    "    public IntByReference(Integer value) {\n",
    "        this.value = value;\n",
    "    }\n",
    "\n",
    "    public String toString() {\n",
    "        return (String.format(\"%d\", this.value));\n",
    "    }\n",
    "\n",
    "    public void setValue(Integer value){\n",
    "        this.value = value;\n",
    "    }\n",
    "\n",
    "    public void swapToLowHighOrder(IntByReference i) {\n",
    "        if (this.value > i.value) {\n",
    "            int tmp = this.value;\n",
    "            this.value = i.value;\n",
    "            i.value = tmp;\n",
    "        }\n",
    "    }\n",
    "\n",
    "    public static void swapper(int n0, int n1) {\n",
    "        IntByReference a = new IntByReference(n0);\n",
    "        IntByReference b = new IntByReference(n1);\n",
    "        System.out.println(\"Before: \" + a + \" \" + b);\n",
    "        a.swapToLowHighOrder(b);  \n",
    "        System.out.println(\"After: \" + a + \" \" + b);\n",
    "        System.out.println();\n",
    "    }\n",
    "\n",
    "    public static void main(String[] ags) {\n",
    "        IntByReference.swapper(20, 12);\n",
    "        IntByReference.swapper(12, 20);\n",
    "        IntByReference.swapper(12, -2);\n",
    "    }\n",
    "\n",
    "}\n",
    "IntByReference.main(null);"
   ]
  },
  {
   "attachments": {},
   "cell_type": "markdown",
   "metadata": {},
   "source": [
    "#### Menu Code"
   ]
  },
  {
   "cell_type": "code",
   "execution_count": 9,
   "metadata": {
    "vscode": {
     "languageId": "java"
    }
   },
   "outputs": [],
   "source": [
    "// The MenuRow Class has title and action for individual line item in menu\n",
    "class MenuRow {\n",
    "    String title;       // menu item title\n",
    "    Runnable action;    // menu item action, using Runnable\n",
    "\n",
    "    /**\n",
    "     *  Constructor for MenuRow,\n",
    "     *\n",
    "     * @param  title,  is the description of the menu item\n",
    "     * @param  action, is the run-able action for the menu item\n",
    "     */\n",
    "    public MenuRow(String title, Runnable action) {\n",
    "        this.title = title;\n",
    "        this.action = action;\n",
    "    }\n",
    "\n",
    "    /**\n",
    "     *  Getters\n",
    "     */\n",
    "    public String getTitle() {\n",
    "        return this.title;\n",
    "    }\n",
    "    public Runnable getAction() {\n",
    "        return this.action;\n",
    "    }\n",
    "\n",
    "    /**\n",
    "     *  Runs the action using Runnable (.run)\n",
    "     */\n",
    "    public void run() {\n",
    "        action.run();\n",
    "    }\n",
    "}\n",
    "\n",
    "// The Main Class illustrates initializing and using Menu with Runnable action\n",
    "class Driver {\n",
    "    /**\n",
    "     *  Menu Control Example\n",
    "     */\n",
    "    public static void main(String[] args) {\n",
    "        // Row initialize\n",
    "        MenuRow[] rows = new MenuRow[]{\n",
    "            // lambda style, () -> to point to Class.Method\n",
    "            new MenuRow(\"Exit\", () -> main(null)),\n",
    "            new MenuRow(\"Do Nothing\", () -> DoNothingByValue.main(null)),\n",
    "            new MenuRow(\"Swap if Hi-Low\", () -> IntByReference.main(null)),\n",
    "            // new MenuRow(\"Matrix Reverse\", () -> Matrix.main(null)),\n",
    "            // new MenuRow(\"Diverse Array\", () -> Matrix.main(null)),\n",
    "            // new MenuRow(\"Random Squirrels\", () -> Number.main(null))\n",
    "        };\n",
    "\n",
    "        // Menu construction\n",
    "        Menu menu = new Menu(rows);\n",
    "\n",
    "        // Run menu forever, exit condition contained in loop\n",
    "        while (true) {\n",
    "            System.out.println(\"Hacks Menu:\");\n",
    "            // print rows\n",
    "            menu.print();\n",
    "\n",
    "            // Scan for input\n",
    "            try {\n",
    "                Scanner scan = new Scanner(System.in);\n",
    "                int selection = scan.nextInt();\n",
    "\n",
    "                // menu action\n",
    "                try {\n",
    "                    MenuRow row = menu.get(selection);\n",
    "                    // stop menu\n",
    "                    if (row.getTitle().equals(\"Exit\")) {\n",
    "                        if (scan != null) \n",
    "                            scan.close();  // scanner resource requires release\n",
    "                        return;\n",
    "                    }\n",
    "                    // run option\n",
    "                    row.run();\n",
    "                } catch (Exception e) {\n",
    "                    System.out.printf(\"Invalid selection %d\\n\", selection);\n",
    "                }\n",
    "\n",
    "            } catch (Exception e) {\n",
    "                System.out.println(\"Not a number\");\n",
    "            }\n",
    "        }\n",
    "    }\n",
    "}\n"
   ]
  },
  {
   "cell_type": "code",
   "execution_count": 11,
   "metadata": {
    "vscode": {
     "languageId": "java"
    }
   },
   "outputs": [
    {
     "name": "stdout",
     "output_type": "stream",
     "text": [
      "Hacks Menu:\n",
      "0 ==> Exit\n",
      "1 ==> Do Nothing\n",
      "2 ==> Swap if Hi-Low\n",
      "Do Nothings\n",
      "changeIt: 0 0 0 0 0 black\n",
      "changeIt2: 0 0 0 0 0 black\n",
      "main: 1 2 3 4 5 6 blackboard\n",
      "\n",
      "Limited return\n",
      "changeIt3: 0 0 0 0 0 limit\n",
      "main2: 0 0 0 0 0 6 limit\n",
      "\n",
      "Do Something with Class\n",
      "constructor: 0 0 0 0 0 class\n",
      "main3: 0 0 0 0 0 0 class\n",
      "\n",
      "Do Something with Generics\n",
      "changeIt4: 0 0 0 0 0 gener\n",
      "main: 0 0 0 0 0 0 generHacks Menu:\n",
      "0 ==> Exit\n",
      "1 ==> Do Nothing\n",
      "2 ==> Swap if Hi-Low\n"
     ]
    }
   ],
   "source": [
    "import java.util.HashMap;\n",
    "import java.util.Map;\n",
    "import java.util.Scanner;\n",
    "\n",
    "/**\n",
    " * Menu: custom implementation\n",
    " * @author     John Mortensen\n",
    " *\n",
    " * Uses String to contain Title for an Option\n",
    " * Uses Runnable to store Class-Method to be run when Title is selected\n",
    " */\n",
    "\n",
    "// The Menu Class has a HashMap of Menu Rows\n",
    "public class Menu {\n",
    "    // Format\n",
    "    // Key {0, 1, 2, ...} created based on order of input menu\n",
    "    // Value {MenuRow0, MenuRow1, MenuRow2,...} each corresponds to key\n",
    "    // MenuRow  {<Exit,Noop>, Option1, Option2, ...}\n",
    "    Map<Integer, MenuRow> menu = new HashMap<>();\n",
    "\n",
    "    /**\n",
    "     *  Constructor for Menu,\n",
    "     *\n",
    "     * @param  rows,  is the row data for menu.\n",
    "     */\n",
    "    public Menu(MenuRow[] rows) {\n",
    "        int i = 0;\n",
    "        for (MenuRow row : rows) {\n",
    "            // Build HashMap for lookup convenience\n",
    "            menu.put(i++, new MenuRow(row.getTitle(), row.getAction()));\n",
    "        }\n",
    "    }\n",
    "\n",
    "    /**\n",
    "     *  Get Row from Menu,\n",
    "     *\n",
    "     * @param  i,  HashMap key (k)\n",
    "     *\n",
    "     * @return  MenuRow, the selected menu\n",
    "     */\n",
    "    public MenuRow get(int i) {\n",
    "        return menu.get(i);\n",
    "    }\n",
    "\n",
    "    /**\n",
    "     *  Iterate through and print rows in HashMap\n",
    "     */\n",
    "    public void print() {\n",
    "        for (Map.Entry<Integer, MenuRow> pair : menu.entrySet()) {\n",
    "            System.out.println(pair.getKey() + \" ==> \" + pair.getValue().getTitle());\n",
    "        }\n",
    "    }\n",
    "\n",
    "    /**\n",
    "     *  To test run Driver\n",
    "     */\n",
    "    public static void main(String[] args) {\n",
    "        Driver.main(args);\n",
    "    }\n",
    "\n",
    "}\n",
    "Menu.main(null);"
   ]
  },
  {
   "attachments": {},
   "cell_type": "markdown",
   "metadata": {},
   "source": [
    "### Exploring AP Classroom FRQ \n",
    "#### 2021 Free Response Question\n",
    "The question involves the WordMatch class, which stores a secret string and provides methods that compare other strings to that secret string. You will write two methods in the WordMatch class.\n",
    "\n",
    "1. a. Write the WordMatch method scoreGuess. To determine the score to be returned, scoreGuess finds the number of times that guess occurs as a substring of secret and then multiplies that number by the square of the length of guess. Occurrences of guess may overlap within secret. Assume that the length of guess is less than or equal to the length of secret and that guess is not an empty string.\n"
   ]
  },
  {
   "cell_type": "code",
   "execution_count": null,
   "metadata": {
    "vscode": {
     "languageId": "java"
    }
   },
   "outputs": [],
   "source": [
    "public int scoreGuess (String guess){\n",
    "    int count = 0\n",
    "    // iterates through the length of the array secret and guess, and checks each value of the array to determine if guess is within secret\n",
    "    for (int = 0; i <= secret.length() - guess.length(); i++){\n",
    "        if (secret.substring(i, i + guess.length()).equals(guess)){\n",
    "            count ++\n",
    "        }\n",
    "    }\n",
    "}"
   ]
  },
  {
   "attachments": {},
   "cell_type": "markdown",
   "metadata": {},
   "source": [
    "1. b. Write the WordMatch method findBetter Guess, which returns the better guess of its two String parameters, guess1 and guess2. If the scoreGuess method returns different values of guess1 and guess2, then the guess with the higher score is returned. If the scoreGuess method returns the same value of guess1 and guess2, then the alphabetically greater guess is returned."
   ]
  },
  {
   "cell_type": "code",
   "execution_count": null,
   "metadata": {
    "vscode": {
     "languageId": "java"
    }
   },
   "outputs": [],
   "source": [
    "public String findBetterGuess(String guess1, String guess2){\n",
    "    if (scoreGuess (guess1) > scoreGuess (guess2)){\n",
    "        return guess1;\n",
    "    }\n",
    "    if (scoreGuess (guess2) > scoreGuess (guess1)){\n",
    "        return guess2\n",
    "    }\n",
    "    if (guess1.compareTo(guess2 > 0)){\n",
    "        return guess1\n",
    "    }\n",
    "    return guess2\n",
    "}"
   ]
  },
  {
   "attachments": {},
   "cell_type": "markdown",
   "metadata": {},
   "source": [
    "#### Advanced Running FRQ"
   ]
  },
  {
   "cell_type": "code",
   "execution_count": 17,
   "metadata": {
    "vscode": {
     "languageId": "java"
    }
   },
   "outputs": [
    {
     "name": "stdout",
     "output_type": "stream",
     "text": [
      "Score For birth Is: 25\n",
      "Score For day Is: 9\n",
      "The Better Guess Between Options birth and day Is: birth\n"
     ]
    }
   ],
   "source": [
    "public class WordMatch {\n",
    "\n",
    "    private String secret;   // initializes and declares the variable secret \n",
    "\n",
    "    public WordMatch (String secret) { // constructs WordMatch object with an initialization of secret string\n",
    "        this.secret = secret;\n",
    "    }\n",
    "\n",
    "    public void setSecret(String secret) {  // sets the secret value\n",
    "        this.secret = secret;\n",
    "    }\n",
    "\n",
    "    public int scoreGuess(String guess) { \n",
    "\n",
    "    // shows the use of control structures (in this example, it is a for loop)\n",
    "\n",
    "        int count = 0; \n",
    "\n",
    "        for (int n = 0; n < secret.length(); n++) {  // continues to loop over the entirety of secret String\n",
    "            if (secret.substring(n).indexOf(guess) == 0) { // start at 0 index \n",
    "                count++;    // increment the count each time it goes through the for loop\n",
    "            }\n",
    "        }\n",
    "\n",
    "        return count * guess.length() * guess.length(); // returns the score (product of how many times the guess appeared in secret and the square of the length of guess)\n",
    "    }\n",
    "\n",
    "    public String findBetterGuess (String guess1, String guess2) { \n",
    "        \n",
    "        // this is using the method of scoreGuess above and is inputs guess1 and guess2 into scoreGuess to check which one is closer to the guess\n",
    "\n",
    "        if (scoreGuess(guess1) > scoreGuess(guess2)) {   // checking if the score of guess 1 is greater than the score of guess2\n",
    "            return guess1;   // if score1 is greater, then it is the better guess\n",
    "        }\n",
    "        if (scoreGuess(guess1) < scoreGuess(guess2)) {  // checking if the score of guess 2 is greater than the score of guess1\n",
    "            return guess2; // if score2 is greater, then it is the better guess\n",
    "        }\n",
    "        if (guess1.compareTo(guess1) > 0) { // compare guess1 and guess2 and the alphabetically greater one is returned (in the case the scores are equal)\n",
    "            return guess1;\n",
    "        }\n",
    "        return guess2;\n",
    "    }\n",
    "\n",
    "    public static void main(String args[]) {  \n",
    "\n",
    "        Scanner sc = new Scanner(System.in);\n",
    "\n",
    "        // System.out.println(\"Enter a guess: \");\n",
    "        String guess = sc.nextLine();\n",
    "\n",
    "        String secret = \"birthday\";   // the secret word\n",
    "        WordMatch wordMatch = new WordMatch(secret);\n",
    "\n",
    "        int score = wordMatch.scoreGuess(guess);\n",
    "        System.out.println(\"Score For \" + guess + \" Is: \" + score);\n",
    "\n",
    "        // System.out.println(\"Enter another guess: \" +);\n",
    "        String guess1 = sc.nextLine();\n",
    "\n",
    "\n",
    "        int score1 = wordMatch.scoreGuess(guess1);\n",
    "        System.out.println(\"Score For \" + guess1 + \" Is: \" + score1);\n",
    "\n",
    "\n",
    "        String compare = wordMatch.findBetterGuess(guess, guess1);\n",
    "        System.out.println(\"The Better Guess Between Options \" + guess + \" and \" + guess1 + \" Is: \" + compare);\n",
    "\n",
    "        sc.close();\n",
    "    }\n",
    "}\n",
    "\n",
    "WordMatch.main(null)"
   ]
  }
 ],
 "metadata": {
  "kernelspec": {
   "display_name": "Java",
   "language": "java",
   "name": "java"
  },
  "language_info": {
   "codemirror_mode": "java",
   "file_extension": ".jshell",
   "mimetype": "text/x-java-source",
   "name": "Java",
   "pygments_lexer": "java",
   "version": "17.0.5+8-Ubuntu-2ubuntu120.04"
  },
  "orig_nbformat": 4,
  "vscode": {
   "interpreter": {
    "hash": "aee8b7b246df8f9039afb4144a1f6fd8d2ca17a180786b69acc140d282b71a49"
   }
  }
 },
 "nbformat": 4,
 "nbformat_minor": 2
}
