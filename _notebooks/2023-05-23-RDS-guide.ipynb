{
 "cells": [
  {
   "attachments": {},
   "cell_type": "markdown",
   "metadata": {},
   "source": [
    "# RDS Research/Further Information"
   ]
  },
  {
   "attachments": {},
   "cell_type": "markdown",
   "metadata": {},
   "source": [
    "- RDS: Relational Database Service\n",
    "   -  a web service provided by Amazon Web Services (AWS) that allows individuals to set up, operate, and scale a database while storing it in the cloud\n",
    "   -  RDS makes it easy to set up, operate, and scale a MySQL database instance in the case of AP Computer Science at Del Norte High Schools\n",
    "\n",
    "\n",
    "- By using RDS, individuals can offload the administrative tasks of database management\n",
    "   - examples: hardware provisioning, software patching, backups, and database scaling, to AW\n",
    "   - RDS takes care of the underlying infrastructure allowing more time to work on website features\n",
    "\n",
    "- Key Features and Benefits of RDS:\n",
    "   - Managed service: AWS manages the infrastructure, database setup, patching, and backups, reducing your administrative burden.\n",
    "   - Scalability: RDS allows you to scale your database instance up or down based on a users needs, which ensures efficiency\n",
    "   - Security: RDS provides built-in security features, such as encryption at rest and in transit, network isolation, and user access control\n",
    "   - Automated software patching: RDS can automatically apply patches and updates to the database software, reducing downtime and ensuring security.\n",
    "   - Stores information in the cloud instead of just locally --> can not be easily deleted and ruined\n",
    "\n",
    "\n",
    "- Overall Takeaway:\n",
    "   - RDS simplifies the process of deploying and managing relational databases, making it a popular choice for many organizations seeking a scalable and reliable database solution in the cloud"
   ]
  }
 ],
 "metadata": {
  "language_info": {
   "name": "python"
  },
  "orig_nbformat": 4
 },
 "nbformat": 4,
 "nbformat_minor": 2
}
