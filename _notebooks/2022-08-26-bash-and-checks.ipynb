{
 "cells": [
  {
   "cell_type": "markdown",
   "metadata": {},
   "source": [
    "# \"Bash and Checks\"\n",
    "> \"Learning the fundamentals of Java, a programming language, as well as other foundational concepts for coding.\"\n",
    "\n",
    "- toc:true\n",
    "- branch: master\n",
    "- badges: true\n",
    "- comments: true\n",
    "- author: Shreya Ahuja\n",
    "- categories: [fastpages, notes, primitives]"
   ]
  },
  {
   "cell_type": "markdown",
   "metadata": {},
   "source": [
    "## Checks for Visual Studio Code Directory"
   ]
  },
  {
   "cell_type": "code",
   "execution_count": 26,
   "metadata": {
    "vscode": {
     "languageId": "shellscript"
    }
   },
   "outputs": [
    {
     "name": "stdout",
     "output_type": "stream",
     "text": [
      "Using conditional statement to create a project directory and project\n",
      "Directory /Users/shreyaahuja/AP-CSA/vscode exists.\n",
      "Directory /Users/shreyaahuja/AP-CSA/vscode/fastpages exists.\n"
     ]
    }
   ],
   "source": [
    "echo \"Using conditional statement to create a project directory and project\"\n",
    "\n",
    "# Variable section\n",
    "export project_dir=$HOME/AP-CSA/vscode  # change vscode to different name to test git clone\n",
    "export project=$project_dir/fastpages  # change APCSP to name of project from git clone\n",
    "export project_repo=\"https://github.com/nighthawkcoders/APCSA.git\"  # change to project of choice\n",
    "\n",
    "cd ~    # start in home directory\n",
    "\n",
    "# Conditional block to make a project directory\n",
    "if [ ! -d $project_dir ]\n",
    "then \n",
    "    echo \"Directory $project_dir does not exists... makinng directory $project_dir\"\n",
    "    mkdir -p $project_dir\n",
    "fi\n",
    "echo \"Directory $project_dir exists.\" \n",
    "\n",
    "# Conditional block to git clone a project from project_repo\n",
    "if [ ! -d $project ]\n",
    "then\n",
    "    echo \"Directory $project does not exists... cloning $project_repo\"\n",
    "    cd $project_dir\n",
    "    git clone $project_repo\n",
    "    cd ~\n",
    "fi\n",
    "echo \"Directory $project exists.\""
   ]
  },
  {
   "cell_type": "code",
   "execution_count": 27,
   "metadata": {
    "vscode": {
     "languageId": "shellscript"
    }
   },
   "outputs": [
    {
     "name": "stdout",
     "output_type": "stream",
     "text": [
      "Navigate to project, then navigate to area wwhere files were cloned\n",
      "/Users/shreyaahuja/AP-CSA/vscode/fastpages\n",
      "\n",
      "list top level or root of files with project pulled from github\n",
      "2022-05-15-07-21-16.png\t_config.yml\t\t_sass\n",
      "2022-05-15-07-24-25.png\t_fastpages_docs\t\t_word\n",
      "2022-05-15-07-25-15.png\t_includes\t\tassets\n",
      "Gemfile\t\t\t_layouts\t\tdocker-compose.yml\n",
      "LICENSE\t\t\t_notebooks\t\timages\n",
      "Makefile\t\t_pages\t\t\tindex.html\n",
      "README.md\t\t_plugins\n",
      "_action_files\t\t_posts\n",
      "\n",
      "list again with hidden files pulled from github\n",
      ".\t\t\tGemfile\t\t\t_pages\n",
      "..\t\t\tLICENSE\t\t\t_plugins\n",
      ".devcontainer.json\tMakefile\t\t_posts\n",
      ".git\t\t\tREADME.md\t\t_sass\n",
      ".gitattributes\t\t_action_files\t\t_word\n",
      ".github\t\t\t_config.yml\t\tassets\n",
      ".gitignore\t\t_fastpages_docs\t\tdocker-compose.yml\n",
      "2022-05-15-07-21-16.png\t_includes\t\timages\n",
      "2022-05-15-07-24-25.png\t_layouts\t\tindex.html\n",
      "2022-05-15-07-25-15.png\t_notebooks\n",
      "\n",
      "list all files in long format\n",
      "total 848\n",
      "drwxr-xr-x  29 shreyaahuja  staff     928 Aug 21 19:58 .\n",
      "drwxr-xr-x   7 shreyaahuja  staff     224 Aug 26 09:22 ..\n",
      "-rw-r--r--   1 shreyaahuja  staff     420 Aug 21 12:39 .devcontainer.json\n",
      "drwxr-xr-x  15 shreyaahuja  staff     480 Aug 23 10:26 .git\n",
      "-rw-r--r--   1 shreyaahuja  staff      84 Aug 21 12:39 .gitattributes\n",
      "drwxr-xr-x   4 shreyaahuja  staff     128 Aug 21 12:39 .github\n",
      "-rw-r--r--   1 shreyaahuja  staff     161 Aug 21 12:39 .gitignore\n",
      "-rw-r--r--   1 shreyaahuja  staff  207007 Aug 21 12:39 2022-05-15-07-21-16.png\n",
      "-rw-r--r--   1 shreyaahuja  staff   90979 Aug 21 12:39 2022-05-15-07-24-25.png\n",
      "-rw-r--r--   1 shreyaahuja  staff   81691 Aug 21 12:39 2022-05-15-07-25-15.png\n",
      "-rwxr-xr-x   1 shreyaahuja  staff    1304 Aug 21 12:39 Gemfile\n",
      "-rw-r--r--   1 shreyaahuja  staff   11351 Aug 21 12:39 LICENSE\n",
      "-rwxr-xr-x   1 shreyaahuja  staff    1422 Aug 21 12:39 Makefile\n",
      "-rwxr-xr-x   1 shreyaahuja  staff    3620 Aug 21 12:39 README.md\n",
      "drwxr-xr-x  18 shreyaahuja  staff     576 Aug 21 12:39 _action_files\n",
      "-rw-r--r--   1 shreyaahuja  staff    3685 Aug 21 12:39 _config.yml\n",
      "drwxr-xr-x  24 shreyaahuja  staff     768 Aug 21 12:39 _fastpages_docs\n",
      "drwxr-xr-x  27 shreyaahuja  staff     864 Aug 21 12:39 _includes\n",
      "drwxr-xr-x   6 shreyaahuja  staff     192 Aug 21 12:39 _layouts\n",
      "drwxr-xr-x  11 shreyaahuja  staff     352 Aug 26 09:16 _notebooks\n",
      "drwxr-xr-x   6 shreyaahuja  staff     192 Aug 21 12:39 _pages\n",
      "drwxr-xr-x   4 shreyaahuja  staff     128 Aug 21 12:39 _plugins\n",
      "drwxr-xr-x   6 shreyaahuja  staff     192 Aug 21 19:58 _posts\n",
      "drwxr-xr-x   3 shreyaahuja  staff      96 Aug 21 12:39 _sass\n",
      "drwxr-xr-x   3 shreyaahuja  staff      96 Aug 21 12:39 _word\n",
      "drwxr-xr-x   4 shreyaahuja  staff     128 Aug 21 12:39 assets\n",
      "-rwxr-xr-x   1 shreyaahuja  staff    1136 Aug 21 12:39 docker-compose.yml\n",
      "drwxr-xr-x   8 shreyaahuja  staff     256 Aug 21 19:58 images\n",
      "-rw-r--r--   1 shreyaahuja  staff     310 Aug 21 19:58 index.html\n"
     ]
    }
   ],
   "source": [
    "echo \"Navigate to project, then navigate to area wwhere files were cloned\"\n",
    "cd $project\n",
    "pwd\n",
    "\n",
    "echo \"\"\n",
    "echo \"list top level or root of files with project pulled from github\"\n",
    "ls\n",
    "\n",
    "echo \"\"\n",
    "echo \"list again with hidden files pulled from github\"\n",
    "ls -a   # hidden files flag, many shell commands have flags\n",
    "\n",
    "echo \"\"\n",
    "echo \"list all files in long format\"\n",
    "ls -al   # all files and long listing"
   ]
  },
  {
   "cell_type": "code",
   "execution_count": 28,
   "metadata": {
    "vscode": {
     "languageId": "shellscript"
    }
   },
   "outputs": [
    {
     "name": "stdout",
     "output_type": "stream",
     "text": [
      "Look for posts\n",
      "/Users/shreyaahuja/AP-CSA/vscode/fastpages/_posts\n",
      "total 24\n",
      "-rwxr-xr-x  1 shreyaahuja  staff  1966 Aug 21 12:39 2020-01-14-test-markdown-post.md\n",
      "-rw-r--r--  1 shreyaahuja  staff   487 Aug 21 21:37 2022-08-21-first-post.md\n",
      "-rw-r--r--  1 shreyaahuja  staff   720 Aug 21 12:39 README.md\n"
     ]
    }
   ],
   "source": [
    "echo \"Look for posts\"\n",
    "export posts=$project/_posts  # _posts inside project\n",
    "cd $posts  # this should exist per fastpages\n",
    "pwd  # present working directory\n",
    "ls -l  # list posts"
   ]
  },
  {
   "cell_type": "code",
   "execution_count": 29,
   "metadata": {
    "vscode": {
     "languageId": "shellscript"
    }
   },
   "outputs": [
    {
     "name": "stdout",
     "output_type": "stream",
     "text": [
      "Look for notebooks\n",
      "/Users/shreyaahuja/AP-CSA/vscode/fastpages/_notebooks\n",
      "total 6216\n",
      "-rw-r--r--  1 shreyaahuja  staff  3162384 Aug 21 12:39 2020-02-20-test.ipynb\n",
      "-rw-r--r--  1 shreyaahuja  staff     1173 Aug 21 21:32 2022-08-21-java-notebook.ipynb\n",
      "-rw-r--r--  1 shreyaahuja  staff     1191 Aug 21 18:11 2022-08-21-python-notebook.ipynb\n",
      "-rw-r--r--  1 shreyaahuja  staff     2650 Aug 26 09:14 2022-08-23-primitive.ipynb\n",
      "-rw-r--r--  1 shreyaahuja  staff        0 Aug 26 09:16 2022-08-26-bash-and-checks.ipynb\n",
      "-rw-r--r--  1 shreyaahuja  staff      771 Aug 21 12:39 README.md\n",
      "drwxr-xr-x  4 shreyaahuja  staff      128 Aug 21 12:39 ghtop_images\n",
      "drwxr-xr-x  3 shreyaahuja  staff       96 Aug 21 12:39 my_icons\n"
     ]
    }
   ],
   "source": [
    "echo \"Look for notebooks\"\n",
    "export notebooks=$project/_notebooks  # _notebooks is inside project\n",
    "cd $notebooks   # this should exist per fastpages\n",
    "pwd  # present working directory\n",
    "ls -l  # list notebooks"
   ]
  },
  {
   "cell_type": "code",
   "execution_count": 30,
   "metadata": {
    "vscode": {
     "languageId": "shellscript"
    }
   },
   "outputs": [
    {
     "name": "stdout",
     "output_type": "stream",
     "text": [
      "Look for images in notebooks, print working directory, list files\n",
      "/Users/shreyaahuja/AP-CSA/vscode/fastpages/_notebooks/ghtop_images\n",
      "total 200\n",
      "-rw-r--r--  1 shreyaahuja  staff  42529 Aug 21 12:39 sparknb.gif\n",
      "-rw-r--r--  1 shreyaahuja  staff  53413 Aug 21 12:39 token.png\n"
     ]
    }
   ],
   "source": [
    "echo \"Look for images in notebooks, print working directory, list files\"\n",
    "cd $notebooks/ghtop_images  # this should exist per fastpages\n",
    "pwd\n",
    "ls -l"
   ]
  },
  {
   "cell_type": "code",
   "execution_count": 32,
   "metadata": {
    "vscode": {
     "languageId": "shellscript"
    }
   },
   "outputs": [
    {
     "name": "stdout",
     "output_type": "stream",
     "text": [
      "Navigate to project, then navigate to area wwhere files were cloned\n",
      "show the contents of README.md\n",
      "\n",
      "[//]: # (This template replaces README.md when someone creates a new repo with the fastpages template.)\n",
      "\n",
      "![](https://github.com/shreya-ahujaa/fastpages/workflows/CI/badge.svg) \n",
      "![](https://github.com/shreya-ahujaa/fastpages/workflows/GH-Pages%20Status/badge.svg) \n",
      "[![](https://img.shields.io/static/v1?label=fastai&message=fastpages&color=57aeac&labelColor=black&style=flat&logo=data:image/png;base64,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)](https://github.com/fastai/fastpages)\n",
      "\n",
      "https://shreya-ahujaa.github.io/fastpages/\n",
      "\n",
      "# My Blog\n",
      "\n",
      "\n",
      "_powered by [fastpages](https://github.com/fastai/fastpages)_\n",
      "\n",
      "\n",
      "## What To Do Next?\n",
      "\n",
      "Great!  You have setup your repo.  Now its time to start writing content.  Some helpful links:\n",
      "\n",
      "- [Writing Blogs With Jupyter](https://github.com/fastai/fastpages#writing-blog-posts-with-jupyter)\n",
      "\n",
      "- [Writing Blogs With Markdown](https://github.com/fastai/fastpages#writing-blog-posts-with-markdown)\n",
      "\n",
      "- [Writing Blog Posts With Word](https://github.com/fastai/fastpages#writing-blog-posts-with-microsoft-word)\n",
      "\n",
      "- [(Optional) Preview Your Blog Locally](_fastpages_docs/DEVELOPMENT.md)\n",
      "\n",
      "Note: you may want to remove example blog posts from the `_posts`,  `_notebooks` or `_word` folders (but leave them empty, don't delete these folders) if you don't want these blog posts to appear on your site.\n",
      "\n",
      "Please use the [nbdev & blogging channel](https://forums.fast.ai/c/fastai-users/nbdev/48) in the fastai forums for any questions or feature requests.\n",
      "\n",
      "end of README.md\n"
     ]
    }
   ],
   "source": [
    "echo \"Navigate to project, then navigate to area wwhere files were cloned\"\n",
    "\n",
    "cd $project\n",
    "echo \"show the contents of README.md\"\n",
    "echo \"\"\n",
    "\n",
    "cat README.md  # show contents of file, in this case markdown\n",
    "echo \"\"\n",
    "echo \"end of README.md\""
   ]
  },
  {
   "cell_type": "code",
   "execution_count": 33,
   "metadata": {
    "vscode": {
     "languageId": "shellscript"
    }
   },
   "outputs": [
    {
     "name": "stdout",
     "output_type": "stream",
     "text": [
      "Show the shell environment variables, key on left of equal value on right\n",
      "\n",
      "VSCODE_CLI=1\n",
      "TERM_PROGRAM=Apple_Terminal\n",
      "SHELL=/bin/zsh\n",
      "TERM=xterm-256color\n",
      "TMPDIR=/var/folders/g2/36b1t4wd1h70k6px2ccgw8wm0000gn/T/\n",
      "CONDA_SHLVL=1\n",
      "PYTHONUNBUFFERED=1\n",
      "TERM_PROGRAM_VERSION=444\n",
      "CONDA_PROMPT_MODIFIER=(base) \n",
      "OLDPWD=/Users/shreyaahuja/AP-CSA/vscode/fastpages\n",
      "ORIGINAL_XDG_CURRENT_DESKTOP=undefined\n",
      "MallocNanoZone=0\n",
      "PYDEVD_USE_FRAME_EVAL=NO\n",
      "TERM_SESSION_ID=1BBC885F-5679-4401-ACF2-78A6B4841C73\n",
      "PYTHONIOENCODING=utf-8\n",
      "USER=shreyaahuja\n",
      "COMMAND_MODE=unix2003\n",
      "CONDA_EXE=/Users/shreyaahuja/opt/anaconda3/bin/conda\n",
      "SSH_AUTH_SOCK=/private/tmp/com.apple.launchd.MpzvsKjyTK/Listeners\n",
      "__CF_USER_TEXT_ENCODING=0x1F5:0x0:0x0\n",
      "PAGER=cat\n",
      "VSCODE_AMD_ENTRYPOINT=vs/workbench/api/node/extensionHostProcess\n",
      "ELECTRON_RUN_AS_NODE=1\n",
      "_CE_CONDA=\n",
      "PATH=/usr/local/opt/openjdk/bin:/Users/shreyaahuja/opt/anaconda3/bin:/Users/shreyaahuja/opt/anaconda3/condabin:/Library/Frameworks/Python.framework/Versions/2.7/bin:/Library/Frameworks/Python.framework/Versions/3.9/bin:/usr/local/bin:/usr/bin:/bin:/usr/sbin:/sbin:/opt/X11/bin\n",
      "CONDA_PREFIX=/Users/shreyaahuja/opt/anaconda3\n",
      "__CFBundleIdentifier=com.microsoft.VSCode\n",
      "PWD=/Users/shreyaahuja/AP-CSA/vscode/fastpages\n",
      "notebooks=/Users/shreyaahuja/AP-CSA/vscode/fastpages/_notebooks\n",
      "VSCODE_HANDLES_UNCAUGHT_ERRORS=true\n",
      "ELECTRON_NO_ATTACH_CONSOLE=1\n",
      "LANG=en_US.UTF-8\n",
      "project_repo=https://github.com/nighthawkcoders/APCSA.git\n",
      "project=/Users/shreyaahuja/AP-CSA/vscode/fastpages\n",
      "project_dir=/Users/shreyaahuja/AP-CSA/vscode\n",
      "XPC_FLAGS=0x0\n",
      "PS1=[PEXP\\[\\]ECT_PROMPT>\n",
      "XPC_SERVICE_NAME=0\n",
      "_CE_M=\n",
      "HOME=/Users/shreyaahuja\n",
      "SHLVL=3\n",
      "APPLICATION_INSIGHTS_NO_DIAGNOSTIC_CHANNEL=1\n",
      "VSCODE_NLS_CONFIG={\"locale\":\"en-us\",\"availableLanguages\":{},\"_languagePackSupport\":true}\n",
      "LOGNAME=shreyaahuja\n",
      "CONDA_PYTHON_EXE=/Users/shreyaahuja/opt/anaconda3/bin/python\n",
      "VSCODE_IPC_HOOK=/Users/shreyaahuja/Library/Application Support/Code/1.70.2-main.sock\n",
      "VSCODE_CODE_CACHE_PATH=/Users/shreyaahuja/Library/Application Support/Code/CachedData/e4503b30fc78200f846c62cf8091b76ff5547662\n",
      "CONDA_DEFAULT_ENV=base\n",
      "VSCODE_PID=57921\n",
      "posts=/Users/shreyaahuja/AP-CSA/vscode/fastpages/_posts\n",
      "DISPLAY=/private/tmp/com.apple.launchd.3amCVA7GoV/org.xquartz:0\n",
      "VSCODE_CWD=/Users/shreyaahuja/AP-CSA/vscode\n",
      "_=/usr/bin/env\n"
     ]
    }
   ],
   "source": [
    "echo \"Show the shell environment variables, key on left of equal value on right\"\n",
    "echo \"\"\n",
    "\n",
    "env"
   ]
  },
  {
   "cell_type": "code",
   "execution_count": 34,
   "metadata": {
    "vscode": {
     "languageId": "shellscript"
    }
   },
   "outputs": [
    {
     "name": "stdout",
     "output_type": "stream",
     "text": [
      "\n",
      "show the secrets of .git\n",
      "total 80\n",
      "-rw-r--r--   1 shreyaahuja  staff    304 Aug 23 10:26 COMMIT_EDITMSG\n",
      "-rw-r--r--   1 shreyaahuja  staff    104 Aug 23 10:26 FETCH_HEAD\n",
      "-rw-r--r--   1 shreyaahuja  staff     23 Aug 21 19:58 HEAD\n",
      "-rw-r--r--   1 shreyaahuja  staff     41 Aug 23 10:26 ORIG_HEAD\n",
      "-rw-r--r--   1 shreyaahuja  staff    312 Aug 21 12:39 config\n",
      "-rw-r--r--   1 shreyaahuja  staff     73 Aug 21 12:39 description\n",
      "drwxr-xr-x  15 shreyaahuja  staff    480 Aug 21 12:39 hooks\n",
      "-rw-r--r--   1 shreyaahuja  staff  12218 Aug 23 10:26 index\n",
      "drwxr-xr-x   3 shreyaahuja  staff     96 Aug 21 12:39 info\n",
      "drwxr-xr-x   4 shreyaahuja  staff    128 Aug 21 12:39 logs\n",
      "drwxr-xr-x  80 shreyaahuja  staff   2560 Aug 23 10:26 objects\n",
      "-rw-r--r--   1 shreyaahuja  staff    271 Aug 21 12:39 packed-refs\n",
      "drwxr-xr-x   5 shreyaahuja  staff    160 Aug 21 12:39 refs\n",
      "\n",
      "look at config file\n",
      "[core]\n",
      "\trepositoryformatversion = 0\n",
      "\tfilemode = true\n",
      "\tbare = false\n",
      "\tlogallrefupdates = true\n",
      "\tignorecase = true\n",
      "\tprecomposeunicode = true\n",
      "[remote \"origin\"]\n",
      "\turl = https://github.com/shreya-ahujaa/fastpages\n",
      "\tfetch = +refs/heads/*:refs/remotes/origin/*\n",
      "[branch \"master\"]\n",
      "\tremote = origin\n",
      "\tmerge = refs/heads/master\n"
     ]
    }
   ],
   "source": [
    "cd $project\n",
    "\n",
    "echo \"\"\n",
    "echo \"show the secrets of .git\"\n",
    "cd .git\n",
    "ls -l\n",
    "echo \"\"\n",
    "echo \"look at config file\"\n",
    "cat config"
   ]
  },
  {
   "cell_type": "markdown",
   "metadata": {},
   "source": [
    "## Installation Checks\n",
    "\n",
    "### Python Check"
   ]
  },
  {
   "cell_type": "code",
   "execution_count": 2,
   "metadata": {
    "vscode": {
     "languageId": "shellscript"
    }
   },
   "outputs": [
    {
     "name": "stdout",
     "output_type": "stream",
     "text": [
      "Python 3.9.12\n",
      "Python 2.7.18\n"
     ]
    }
   ],
   "source": [
    "python --version\n",
    "python2 --version"
   ]
  },
  {
   "cell_type": "markdown",
   "metadata": {},
   "source": [
    "### Conda Installation Check"
   ]
  },
  {
   "cell_type": "code",
   "execution_count": 3,
   "metadata": {
    "vscode": {
     "languageId": "shellscript"
    }
   },
   "outputs": [
    {
     "name": "stdout",
     "output_type": "stream",
     "text": [
      "Conda and jupyter were correctly installed.\n"
     ]
    }
   ],
   "source": [
    "test=$(conda list | grep -c \"jupyter\")\n",
    "\n",
    "if [ $test -gt 0 ]; then\n",
    "    echo \"Conda and jupyter were correctly installed.\"\n",
    "else \n",
    "    echo \"Conda and jupter were incorrectly installed.\"\n",
    "fi"
   ]
  },
  {
   "cell_type": "markdown",
   "metadata": {},
   "source": [
    "### Jupyter Check"
   ]
  },
  {
   "cell_type": "code",
   "execution_count": 4,
   "metadata": {
    "vscode": {
     "languageId": "shellscript"
    }
   },
   "outputs": [
    {
     "name": "stdout",
     "output_type": "stream",
     "text": [
      "Selected Jupyter core packages...\n",
      "IPython          : 8.2.0\n",
      "ipykernel        : 6.9.1\n",
      "ipywidgets       : 7.6.5\n",
      "jupyter_client   : 6.1.12\n",
      "jupyter_core     : 4.9.2\n",
      "jupyter_server   : 1.13.5\n",
      "jupyterlab       : 3.3.2\n",
      "nbclient         : 0.5.13\n",
      "nbconvert        : 6.4.4\n",
      "nbformat         : 5.3.0\n",
      "notebook         : 6.4.8\n",
      "qtconsole        : 5.3.0\n",
      "traitlets        : 5.1.1\n",
      "Available kernels:\n",
      "  bash       /Users/shreyaahuja/Library/Jupyter/kernels/bash\n",
      "  python3    /Users/shreyaahuja/opt/anaconda3/share/jupyter/kernels/python3\n",
      "  java       /usr/local/share/jupyter/kernels/java\n"
     ]
    }
   ],
   "source": [
    "jupyter --version\n",
    "jupyter kernelspec list"
   ]
  },
  {
   "cell_type": "markdown",
   "metadata": {},
   "source": [
    "### Java Check"
   ]
  },
  {
   "cell_type": "code",
   "execution_count": 5,
   "metadata": {
    "vscode": {
     "languageId": "shellscript"
    }
   },
   "outputs": [
    {
     "name": "stdout",
     "output_type": "stream",
     "text": [
      "openjdk 11.0.16.1 2022-08-12\n",
      "OpenJDK Runtime Environment Homebrew (build 11.0.16.1+0)\n",
      "OpenJDK 64-Bit Server VM Homebrew (build 11.0.16.1+0, mixed mode)\n",
      "javac 11.0.16.1\n"
     ]
    }
   ],
   "source": [
    "java --version\n",
    "javac --version"
   ]
  },
  {
   "cell_type": "markdown",
   "metadata": {},
   "source": [
    "### Javascript Check"
   ]
  },
  {
   "cell_type": "code",
   "execution_count": 6,
   "metadata": {
    "vscode": {
     "languageId": "shellscript"
    }
   },
   "outputs": [
    {
     "name": "stdout",
     "output_type": "stream",
     "text": [
      "8.1.2\n"
     ]
    }
   ],
   "source": [
    "npm --version"
   ]
  },
  {
   "cell_type": "markdown",
   "metadata": {},
   "source": [
    "## Hacks\n",
    "\n",
    "*Is there anything we use to verify tools we install? Think about versions.*\n",
    "\n",
    "*Is there anything we could verify with Anaconda?*\n",
    "\n",
    "*How would you update a repository?*\n",
    "\n",
    "*Really cool would be automating a procedure from installation.*"
   ]
  }
 ],
 "metadata": {
  "kernelspec": {
   "display_name": "Bash",
   "language": "bash",
   "name": "bash"
  },
  "language_info": {
   "codemirror_mode": "shell",
   "file_extension": ".sh",
   "mimetype": "text/x-sh",
   "name": "bash"
  },
  "orig_nbformat": 4
 },
 "nbformat": 4,
 "nbformat_minor": 2
}
