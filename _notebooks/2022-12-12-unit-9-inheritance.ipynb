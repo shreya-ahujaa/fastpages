{
 "cells": [
  {
   "cell_type": "markdown",
   "metadata": {},
   "source": [
    "# \"Unit 9: Inheritance (Collegeboard)\"\n",
    "> \"The capability of a class to derive properties and characteristics from another class\"\n",
    "\n",
    "- toc:true\n",
    "- branch: master\n",
    "- badges: true\n",
    "- comments: true\n",
    "- author: Shreya Ahuja\n",
    "- categories: [fastpages, notes, inheritance]"
   ]
  },
  {
   "cell_type": "markdown",
   "metadata": {},
   "source": [
    "## Creating Superclasses and Subclasses\n",
    "- For the example not using inheritance for each of the three classes we have to rewrite the three methods\n",
    "- By creating a superclass vehicle which is extended by the three subclasses we reduce risk of error and redundancy and simplifies our code\n",
    "\n",
    "\n",
    "## Writing Constructors \n",
    "- Allows reusing the code and adding attributes if needed in every subclass.\n",
    "- A subclass can also become a super class by extending it again in another subclass. \n",
    "- Same goes for a constructor in which, the keyword “super” is used to call the super class constructor and can add additional attributes for personalization. \n",
    "\n",
    "## Overriding Methods\n",
    "- @Override is used to give different implementations to the method of superclass. \n",
    "- 1st Reason: state that your overriding a method of the super class. \n",
    "- 2nd Reason: To make your code readable to others. \n",
    "\n",
    "## Creating References using Inheritance Hierarchies\n",
    "- Superclasses and subclasses are generally organized into a single root tree structure called an inheritance hierarchy\n",
    "   - In this type of hierarchy, attributes and methods that are associated with a specific class are inherited by lower levels of the hierarchy.\n",
    "- When working with a hierarchy of subclasses and superclasses, the object type and reference type can be different when instantiating an object variable.\n",
    "   - Example: Fruit fruit1 = new Apple(); In this case, the reference type is declared with the superclass, while the object type is declared with the subclass.\n",
    "\n",
    "\n",
    "## Polymorphism\n",
    "- Polymorphism can be used when we have multiple classes that are related by inheritance\n",
    "   - It is utilized when a method is implemented to perform different tasks in different classes\n",
    "   - essentially allows a method to take on multiple “forms” or implementations based on the specific object it is acting upon.\n",
    "- Polymorphism is useful for code reusability, as it re-implements an existing class’s attributes and methods for new classes\n",
    "   - real life example: a sport can take on different forms, as it can be soccer, basketball, baseball, etc.\n",
    "\n",
    "## Object Superclass\n",
    "- The object superclass is located at the top of every class hierarchy\n",
    "   - this means all of the other classes in a hierarchy can use the attributes and methods of the object superclass through inheritance\n",
    "   - It is a part of the built-in java.lang package.\n",
    "- The object superclass contains common, useful methods such as equals() and toString()\n",
    "   - The equals() method compares two objects; it is often used to check for equality between 2 String objects, comparing each character of both strings to check if they are the same.\n",
    "   - The toString() method returns a String representation of a given object.\n",
    "\n",
    "\n",
    "\n",
    "\n",
    "\n",
    "\n"
   ]
  }
 ],
 "metadata": {
  "kernelspec": {
   "display_name": "Java",
   "language": "java",
   "name": "java"
  },
  "language_info": {
   "name": "java"
  },
  "orig_nbformat": 4
 },
 "nbformat": 4,
 "nbformat_minor": 2
}
