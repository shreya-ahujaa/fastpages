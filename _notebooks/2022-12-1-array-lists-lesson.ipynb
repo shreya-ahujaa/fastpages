{
 "cells": [
  {
   "cell_type": "markdown",
   "metadata": {},
   "source": [
    "# \"Unit 7: ArrayLists (Collegeboard)\"\n",
    "- toc:true\n",
    "- branch: master\n",
    "- badges: true\n",
    "- comments: true\n",
    "- author: Shreya Ahuja\n",
    "- categories: [fastpages, collegboard, frq]"
   ]
  },
  {
   "cell_type": "markdown",
   "metadata": {},
   "source": [
    "## Introduction to ArrayLists\n",
    "- A reference type\n",
    "   - Mutable and contains object references\n",
    "- Array cannot be modified while ArrayLists can change their size dynamically\n",
    "- Syntax for Instantiation:\n",
    "   - ArrayList<String> cars = new ArrayList<String>();\n",
    "\n",
    "## ArrayList Methods\n",
    "-  add(int index, element): this method is used to add an element at a particular index in the list.\n",
    "- addAll(int index, Collection collection): this method is used to add all the elements in the given collection to the list.\n",
    "- size(): this method is used to return the size of the list.\n",
    "- clear(): this method is used to remove all the elements in the list.\n",
    "- remove(element or int index): this method removes an element from the specified index. \n",
    "- get(int index): this method returns elements at the specified index.\n",
    "- isEmpty(): returns true if the list is empty, else false.\n",
    "- sort(Comparator comp): this method is used to sort the elements of the list on the basis of the given comparator.\n",
    "\n",
    "## Traversing ArrayLists\n",
    "- For Loop\n",
    "- While Loop\n",
    "- Enhanced For Loop\n",
    "\n",
    "## Developing Algorithms of ArrayLists\n",
    "- using an arraylist of doubles\n",
    "- using an arraylist of integers\n",
    "\n",
    "## Searching\n",
    "- Searching \n",
    "   - The locating of data within linear structures (arrays, lists, queue, stack, etc.)\n",
    "   - Searching a structure involves control structures (we’ve already learned about them):\n",
    "   - Iteration and selection → loop with an if statement inside\n",
    "- For loops are optimal for linear searching because each element needs to be specified sequentially, with no need to track the index after it’s executed\n",
    "- If there’s a match, the index is printed out, otherwise, the search continues.\n",
    "\n",
    "## Sorting\n",
    "- Sorting sorts the ArrayList in a specified order\n",
    "    - Ascending\n",
    "    - Descending\n"
   ]
  }
 ],
 "metadata": {
  "kernelspec": {
   "display_name": "Python 3.9.6 64-bit",
   "language": "python",
   "name": "python3"
  },
  "language_info": {
   "name": "python",
   "version": "3.9.6"
  },
  "orig_nbformat": 4,
  "vscode": {
   "interpreter": {
    "hash": "aee8b7b246df8f9039afb4144a1f6fd8d2ca17a180786b69acc140d282b71a49"
   }
  }
 },
 "nbformat": 4,
 "nbformat_minor": 2
}
