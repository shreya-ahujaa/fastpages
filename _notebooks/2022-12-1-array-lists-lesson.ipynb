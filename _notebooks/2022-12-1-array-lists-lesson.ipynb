{
 "cells": [
  {
   "cell_type": "markdown",
   "metadata": {},
   "source": [
    "# \"Unit 7: ArrayLists (Collegeboard)\"\n",
    "- toc:true\n",
    "- branch: master\n",
    "- badges: true\n",
    "- comments: true\n",
    "- author: Shreya Ahuja\n",
    "- categories: [fastpages, collegboard, frq]"
   ]
  },
  {
   "cell_type": "markdown",
   "metadata": {},
   "source": [
    "## Introduction to ArrayLists\n",
    "- A reference type\n",
    "   - Mutable and contains object references\n",
    "- Array cannot be modified while ArrayLists can change their size dynamically\n",
    "- Syntax for Instantiation:\n",
    "   - ArrayList<String> cars = new ArrayList<String>();\n",
    "\n",
    "## ArrayList Methods\n",
    "-  add(int index, element): this method is used to add an element at a particular index in the list.\n",
    "- addAll(int index, Collection collection): this method is used to add all the elements in the given collection to the list.\n",
    "- size(): this method is used to return the size of the list.\n",
    "- clear(): this method is used to remove all the elements in the list.\n",
    "- remove(element or int index): this method removes an element from the specified index. \n",
    "- get(int index): this method returns elements at the specified index.\n",
    "- isEmpty(): returns true if the list is empty, else false.\n",
    "- sort(Comparator comp): this method is used to sort the elements of the list on the basis of the given comparator.\n",
    "\n",
    "## Traversing ArrayLists\n",
    "- For Loop\n",
    "- While Loop\n",
    "- Enhanced For Loop\n",
    "\n",
    "## Developing Algorithms of ArrayLists\n",
    "- using an arraylist of doubles\n",
    "- using an arraylist of integers\n",
    "\n",
    "## Searching\n",
    "- Searching \n",
    "   - The locating of data within linear structures (arrays, lists, queue, stack, etc.)\n",
    "   - Searching a structure involves control structures (we’ve already learned about them):\n",
    "   - Iteration and selection → loop with an if statement inside\n",
    "- For loops are optimal for linear searching because each element needs to be specified sequentially, with no need to track the index after it’s executed\n",
    "- If there’s a match, the index is printed out, otherwise, the search continues.\n",
    "\n",
    "## Sorting\n",
    "- Sorting sorts the ArrayList in a specified order\n",
    "    - Ascending\n",
    "    - Descending\n"
   ]
  },
  {
   "cell_type": "markdown",
   "metadata": {},
   "source": [
    "## Homework\n",
    "### Hack 1: Descending and Swap"
   ]
  },
  {
   "cell_type": "code",
   "execution_count": 4,
   "metadata": {
    "vscode": {
     "languageId": "java"
    }
   },
   "outputs": [
    {
     "name": "stdout",
     "output_type": "stream",
     "text": [
      "Descending Order: [90, 88, 82, 76, 64, 28, 12, 8, 6, 5, 4, 2]\n",
      "First and Last Element Flipped: [2, 88, 82, 76, 64, 28, 12, 8, 6, 5, 4, 90]\n"
     ]
    }
   ],
   "source": [
    "import java.util.ArrayList;\n",
    "import java.util.Collections;\n",
    "\n",
    "ArrayList<Integer> numbers = new ArrayList<>(Arrays.asList(2,4,6,8,5,12,90,88,76,64,28,82));\n",
    "\n",
    "Collections.sort(numbers);\n",
    "Collections.reverse(numbers);\n",
    "\n",
    "\n",
    "System.out.println(\"Descending Order: \" + numbers);\n",
    "\n",
    "public static void swapFirstAndLast(){\n",
    "    Integer temp = numbers.get(0);\n",
    "    int last_index = numbers.size()-1; \n",
    "    numbers.set(0, numbers.get(last_index));\n",
    "    numbers.set(last_index, temp);\n",
    "    System.out.println(\"First and Last Element Flipped: \" + numbers);\n",
    "}\n",
    "swapFirstAndLast()"
   ]
  },
  {
   "cell_type": "markdown",
   "metadata": {},
   "source": [
    "### Hack 2: Ascending, Descending, Neither"
   ]
  },
  {
   "cell_type": "code",
   "execution_count": 6,
   "metadata": {
    "vscode": {
     "languageId": "java"
    }
   },
   "outputs": [
    {
     "name": "stdout",
     "output_type": "stream",
     "text": [
      "[40, 100, 66, 28, 88, 62, 82, 99]: Neither\n",
      "[2, 3, 4, 5, 6, 7, 8, 9, 10]: Ascending Order\n",
      "[10, 9, 8, 7, 6, 5, 4, 3, 2, 1]: Descending Order\n"
     ]
    }
   ],
   "source": [
    "public class Ordering{\n",
    "    public String checkOrder(ArrayList<Integer> list){\n",
    "        for(int i = 0; i < list.size()-1; i++){\n",
    "            if(list.get(i) < list.get(i + 1)){ // check for it it is ascending\n",
    "                continue;\n",
    "            }\n",
    "            else {\n",
    "                for(int k = 0; k < list.size()-1; k++){\n",
    "                    if(list.get(k) > list.get(k + 1)){ // check for if it is descending\n",
    "                        continue;\n",
    "                    }\n",
    "                    else {\n",
    "                        return \"Neither\"; // neither ascending or descending\n",
    "                    }\n",
    "                }\n",
    "                return \"Descending Order\";\n",
    "            }\n",
    "        }\n",
    "        return \"Ascending Order\";\n",
    "    }\n",
    "\n",
    "    public static void main(String[] args) { // main method tester\n",
    "        ArrayList<Integer> neitherList = new ArrayList<Integer>(Arrays.asList(40, 100, 66, 28, 88, 62, 82, 99));\n",
    "        ArrayList<Integer> ascendingList = new ArrayList<Integer>(Arrays.asList(2, 3, 4, 5, 6, 7, 8, 9, 10));\n",
    "        ArrayList<Integer> descendingList = new ArrayList<Integer>(Arrays.asList(10, 9 , 8, 7, 6, 5, 4, 3, 2, 1));\n",
    "\n",
    "        Ordering myObject = new Ordering();\n",
    "        System.out.println(neitherList + \": \" + myObject.checkOrder(neitherList));\n",
    "        System.out.println(ascendingList + \": \" + myObject.checkOrder(ascendingList));\n",
    "        System.out.println(descendingList + \": \" + myObject.checkOrder(descendingList));\n",
    "    }   \n",
    "}\n",
    "Ordering.main(null);"
   ]
  }
 ],
 "metadata": {
  "kernelspec": {
   "display_name": "Java",
   "language": "java",
   "name": "java"
  },
  "language_info": {
   "codemirror_mode": "java",
   "file_extension": ".jshell",
   "mimetype": "text/x-java-source",
   "name": "Java",
   "pygments_lexer": "java",
   "version": "11.0.16.1+0"
  },
  "orig_nbformat": 4,
  "vscode": {
   "interpreter": {
    "hash": "aee8b7b246df8f9039afb4144a1f6fd8d2ca17a180786b69acc140d282b71a49"
   }
  }
 },
 "nbformat": 4,
 "nbformat_minor": 2
}
