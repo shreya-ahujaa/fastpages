{
 "cells": [
  {
   "cell_type": "markdown",
   "metadata": {},
   "source": [
    "# \"College Board 2014 Practice MCQ Reflection\"\n",
    "\n",
    "- toc:true\n",
    "- branch: master\n",
    "- badges: true\n",
    "- comments: true\n",
    "- author: Shreya Ahuja\n",
    "- categories: [fastpages, notes, collegeboard]\n",
    "\n"
   ]
  },
  {
   "cell_type": "markdown",
   "metadata": {},
   "source": [
    "## General Reflection \n",
    "My final score was 36/40 which I was fine with because it was in the range for a 5 on the AP Exam. However, I think the main thing I'll need to work on is timing because it took me a while to complete it.  I would not have that much time on the AP Exam, so I need to speed up. In future practices, I think I'll just need to focus on timing and getting myself to answer and comprehend questions faster.\n",
    "\n",
    "## AP College Board Test Corrections\n",
    "\n",
    "- Question 14\n",
    "    - In the answer that I choose, the ahe access being was what would be used if myVehicles was an array instead of an ArrayList and v was an index of the myVehicles array. However, in this case an enhanced for loop is being used, which accesses the elements of myVehicles directly and assigns v the value of the elements. So, that would mean the right answer is E (v.getMileage()) which will correctly return the mileage for v.\n",
    "\n",
    "\n",
    "- Question 18\n",
    "   - My answer was incorrect because using this statement will result in a range between -1 and myList.size() – 2, which is not correct. Instead, the answer should have been B which is the right choice because the indices for myList are 0 through myList.size() – 1, for a total of myList.size() elements.\n",
    "\n",
    "\n",
    "- Question 33\n",
    "   - When I was doing the test, I forgot to notice that k was never incremented. Since k is never incremented, the or (||) will always be true since k will always be less than 4 and an infinite loop will occur. Therefore, the answer E would be correct as there would be no output with an infinite loop.\n",
    "\n",
    "\n",
    "- Question 34\n",
    "   - In my answer, I put that both Choice II and III would be correct. But, I later realized that III would not be correct because it attempts to update x and y, however since they are private instance variables in Point, they are not able to be accessed directly in Circle. Therefore, only II would be the correct choice to allow the code to run successfully, meaning that B was the correct MC answer.\n",
    "\n"
   ]
  }
 ],
 "metadata": {
  "kernelspec": {
   "display_name": "Java",
   "language": "java",
   "name": "java"
  },
  "language_info": {
   "name": "java",
   "version": "3.9.6"
  },
  "orig_nbformat": 4,
  "vscode": {
   "interpreter": {
    "hash": "aee8b7b246df8f9039afb4144a1f6fd8d2ca17a180786b69acc140d282b71a49"
   }
  }
 },
 "nbformat": 4,
 "nbformat_minor": 2
}
