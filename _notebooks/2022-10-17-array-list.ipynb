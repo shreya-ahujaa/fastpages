{
 "cells": [
  {
   "cell_type": "markdown",
   "metadata": {},
   "source": [
    "# \"Arrays and Arraylists\"\n",
    "- toc:true\n",
    "- branch: master\n",
    "- badges: true\n",
    "- comments: true\n",
    "- author: Shreya Ahuja\n",
    "- categories: [fastpages, java, array]"
   ]
  },
  {
   "cell_type": "code",
   "execution_count": 3,
   "metadata": {
    "vscode": {
     "languageId": "java"
    }
   },
   "outputs": [
    {
     "name": "stdout",
     "output_type": "stream",
     "text": [
      "[wish list item 1]\n",
      "[wish list item 1, wish list item 2]\n",
      "[wish list item 1, wish list item 2, wish list item 3]\n",
      "[wish list item 1, wish list item 2, wish list item 3, wish list item 4]\n",
      "[wish list item 1, wish list item 2, wish list item 3, wish list item 4, wish list item 5]\n",
      "wish list items were all added!\n",
      "[wish list item 2, wish list item 3, wish list item 4, wish list item 5]\n",
      "[wish list item 3, wish list item 4, wish list item 5]\n",
      "[wish list item 4, wish list item 5]\n",
      "[wish list item 5]\n",
      "removed first four wish list items\n",
      "[]\n",
      "cleared wish list!\n"
     ]
    }
   ],
   "source": [
    "import java.util.ArrayList;\n",
    " \n",
    "class arraylist {\n",
    "    public ArrayList<String> add()\n",
    "    {\n",
    "        // Size\n",
    "        int n = 5;\n",
    "\n",
    "        // initial size n\n",
    "        ArrayList<String> arrli = new ArrayList<String>(n);\n",
    " \n",
    "        // Appending new elements at\n",
    "        // the end of the list\n",
    "        for (Integer i = 1; i <= n; i++){\n",
    "            String string_i = i.toString();\n",
    "            String shirt = \"wish list item \";\n",
    "            shirt = shirt + string_i;\n",
    "            arrli.add(shirt);\n",
    "            System.out.println(arrli);\n",
    "        }\n",
    "        System.out.println(\"wish list items were all added!\");\n",
    "        return arrli;\n",
    "    }\n",
    "\n",
    "\n",
    "    \n",
    "    public ArrayList<String> remove(){\n",
    "           // Size\n",
    "           int n = 5;\n",
    "\n",
    "           // initial size n\n",
    "           ArrayList<String> arrli = new ArrayList<String>(n);\n",
    "           arrli = add();\n",
    "    \n",
    "        for (Integer i=0; i<4; i++){\n",
    "            arrli.remove(0);\n",
    "            System.out.println(arrli);\n",
    "        }\n",
    "        System.out.println(\"removed first four wish list items\");\n",
    "        arrli.clear();\n",
    "        System.out.println(arrli);\n",
    "        System.out.println(\"cleared wish list!\");\n",
    "        return arrli;\n",
    "\n",
    "    }\n",
    "    \n",
    "\n",
    "    public static void main(String[] args)\n",
    "    {\n",
    "        arraylist object_array = new arraylist();\n",
    "        //object_array.add();\n",
    "        object_array.remove();\n",
    "        \n",
    "    }\n",
    "    \n",
    "}\n",
    "\n",
    "arraylist.main(null);"
   ]
  }
 ],
 "metadata": {
  "kernelspec": {
   "display_name": "Java",
   "language": "java",
   "name": "java"
  },
  "language_info": {
   "codemirror_mode": "java",
   "file_extension": ".jshell",
   "mimetype": "text/x-java-source",
   "name": "Java",
   "pygments_lexer": "java",
   "version": "11.0.16.1+0"
  },
  "orig_nbformat": 4,
  "vscode": {
   "interpreter": {
    "hash": "aee8b7b246df8f9039afb4144a1f6fd8d2ca17a180786b69acc140d282b71a49"
   }
  }
 },
 "nbformat": 4,
 "nbformat_minor": 2
}
