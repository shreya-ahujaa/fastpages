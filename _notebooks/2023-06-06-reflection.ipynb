{
 "cells": [
  {
   "attachments": {},
   "cell_type": "markdown",
   "metadata": {},
   "source": [
    "# \"Final Reflection\"\n",
    "\n",
    "- toc:true\n",
    "- branch: master\n",
    "- badges: true\n",
    "- comments: true\n",
    "- author: Shreya Ahuja\n",
    "- categories: [fastpages, reflection]"
   ]
  },
  {
   "attachments": {},
   "cell_type": "markdown",
   "metadata": {},
   "source": [
    "## Skills Obtained\n",
    "In my computer science studies this year, I acquired the skill of programming in Java, which was already a new language to me that I was not familiar with. I was not experienced in the programming language, the platform VSCode and many different aspects, but this year taught me a lot. For example, I got more immersed and involved with the backend side of things, which I had never done before. I learned how frontend and backend websites can communicate with each other and source information, and also recently worked more on RDS and AWS this trimester. Previously, I was more of a frontend coder, but my skill set expanded to more backend oriented work this year after getting constant feedback through live reviews. However, my learning extended far beyond that. I developed the ability to express my ideas clearly and present my work in a manner that demonstrates my work in an effective way. Through participating in coding hacks and live reviews, I realized the significance of allowing others to comprehend and understand the code that I wrote. I was able to become more clear with my presentations in live reviews throughout the year and believe this is one skill I obtained.  The knowledge I acquired allowed me to evolve as a teammate, which is something that is needed in the real world. Overall, this year has taught me to become a better programmer and communicator, and I have learned that it is possible to do almost anything in code if you do not give up.\n",
    "\n",
    "\n",
    "## Highs and Lows From Year\n",
    "This year in computer science has been a journey filled with both highs and lows. One high from this year was the ability to work with others who were more advanced in coding than me. Even though this was stressful at times, I believe that choosing teams with members that have more knowledge than me greatly helped me grow. I was able to learn from them and they pushed me to be a better coder that worked hard. Another high from this year was my increased involvement in the backend. Even last year in CSP, I had always stayed in my comfort zone and stuck with frontend coding, and trying to make the website aesthetically pleasing. But,  this year I pushed myself with constant feedback and learned to do some backend coding. I focused heavily on Java, and learned many things that I hope to incorporate in my years to come. With highs come some lows, and one that I remember were the frustrating and tiring hours I spent trying to debug and fix my code. While it was hard to persevere and  continue working when my code simply did not seem to be working, I am now able to understand that they were valuable learning opportunities. They taught me the importance of problem-solving, and seeking help when needed, whether that be from my teacher, or other team mates who were willing to help. I also struggled with time management in balancing this class along with 4 other APs, but this year taught me how to time manage well and prioritize things that are important to me, like coding. \n",
    "\n",
    "\n",
    "## Future Plans with Computer Science\n",
    "For computer science, I hope to apply this to my future career path. Not only am I planning to major in something related to computer science in the future, but I hope to use these skills in my everyday life, such as the web development we learned. I also applied and am doing some internships this summer, and I believe that the knowledge and skills I gained from here will help me a lot in this. \n",
    "\n",
    "\n",
    "## Future Plans In Education/Career\n",
    "As for my future plans in education, I plan to go to a four year college and then try to get my masters as well. I am hoping to major in computer science, and if not that, then something related to it. For example, recently I have been interested in a field called Computational Biology and Bioinformatics which is a confluence of both Computer Science and Biology, two subjects that interest me a lot. I can not be sure about my career path as of now as I need to explore more and figure out if this is what I truly want to do, but as of now, I believe that something related to computer science is important to me. \n",
    "\n",
    "## Other\n",
    "After reflecting thoroughly on the past two years of studying computer science, I can confidently say that despite encountering challenges, I am grateful for having taken these classes. They have equipped me with practical skills that can be directly applied in real-world scenarios and I am grateful for the learning style in this class. Live Reviews have truly helped me in interviews, which I have seen in real life when I had been interviewed for an internship opportunity a few weeks prior. I knew how to answer questions on the spot and was prepared in being able to come up with clear and concise answers that impressed the interviewers. Although computer science sometimes stresses me out, I am really glad I took Computer Science at Del Norte as it gave me a chance to get introduced to new styles of learning and gave me exposure into a field I am currently interested in pursuing."
   ]
  }
 ],
 "metadata": {
  "language_info": {
   "name": "python"
  },
  "orig_nbformat": 4
 },
 "nbformat": 4,
 "nbformat_minor": 2
}
