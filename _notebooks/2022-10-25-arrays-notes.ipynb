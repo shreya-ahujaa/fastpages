{
 "cells": [
  {
   "cell_type": "markdown",
   "metadata": {},
   "source": [
    "# \"Unit 6: Arrays (Collegeboard)\"\n",
    "> \"Student Led Lessons 6.1-6.4 (multiple aspects of arrays)\"\n",
    "\n",
    "- toc:true\n",
    "- branch: master\n",
    "- badges: true\n",
    "- comments: true\n",
    "- author: Shreya Ahuja\n",
    "- categories: [fastpages, notes, arrays]"
   ]
  },
  {
   "cell_type": "markdown",
   "metadata": {},
   "source": [
    "## Vocabulary\n",
    "- Array: a type of data structure that contains a collection of data\n",
    "   - in Java, arrays and ArrayLists are different data structures\n",
    "   - the data in Java array can be primitive or referenced\n",
    "    - primitive: contain a single variable\n",
    "    - referenced: several variables of different types\n",
    "- Parts of an Array\n",
    "   - element: one value in array\n",
    "   - index: the position of the value in array\n",
    "\n",
    "\n",
    "## 6.1 Array Syntax\n",
    "- when you declare an array variable, it is not initialized\n",
    "   - by default, each element in the array is value 0\n",
    "- you can also specify the initial values in an array\n",
    "    - you don't need to use the new operator\n",
    "       - the compiler counts the number of initial values to determine the length of the array\n",
    "\n",
    "\n",
    "## 6.2 Traverse an Array\n",
    "- traversing an array is accessing the values inside of it\n",
    "- you can use any sort of loop to traverse an array\n",
    "    - recommend using for loops\n",
    "- you can also use for loops to traverse backwards through an array\n",
    "\n",
    "## 6.3 Enhanced For Loops\n",
    "- you can use a basic for loop to visit all elements of an array\n",
    "- use an enhanced for loop to visit all elements of the array\n",
    "   - read loop as \"for each element in values\" \n",
    "\n",
    "## 6.4 Developing ALgorithms Using Arrays\n",
    "- how to identify the minimum and maximum value inside an array \n",
    "- finding sums of arrays, finding eery other element int he array, check for duplicates\n",
    "- sorting arrays\n",
    "- important things to know \n",
    "   - array.length: returns how many values are in the array\n",
    "   - array[i]: accesses the array at index i"
   ]
  },
  {
   "cell_type": "markdown",
   "metadata": {},
   "source": [
    "## Hacks and Homework"
   ]
  },
  {
   "cell_type": "code",
   "execution_count": 16,
   "metadata": {
    "vscode": {
     "languageId": "java"
    }
   },
   "outputs": [
    {
     "name": "stdout",
     "output_type": "stream",
     "text": [
      "First and Last Element Swap: \n",
      "10\n",
      "2\n",
      "3\n",
      "4\n",
      "5\n",
      "6\n",
      "7\n",
      "8\n",
      "9\n",
      "1\n",
      "Replacing All Elements With Zero: \n",
      "0\n",
      "0\n",
      "0\n",
      "0\n",
      "0\n",
      "0\n",
      "0\n",
      "0\n",
      "0\n",
      "0\n",
      "Array In Increasing Order:\n",
      "true\n"
     ]
    }
   ],
   "source": [
    "public class Array {\n",
    "    private static int[] values = {1, 2, 3, 4, 5, 6, 7, 8, 9, 10};\n",
    "\n",
    "    public void printElements(){\n",
    "        for(int i = 0; i < values.length; i++){\n",
    "            System.out.println(values[i]);\n",
    "        }\n",
    "    }\n",
    "\n",
    "    public void swapFirstAndLastElement(){\n",
    "        int lastElement = values[values.length-1];\n",
    "        values[values.length-1] = values[0];\n",
    "        values[0] = lastElement;\n",
    "    }\n",
    "\n",
    "    public void replaceWithZero(){\n",
    "        for(int i = 0; i < values.length; i++){\n",
    "            values[i] = 0;\n",
    "        }\n",
    "    }\n",
    "\n",
    "    public static boolean findIfSorted(int[] n) {\n",
    "       \n",
    "        for (int i = 0; i < n.length - 1; i++) {\n",
    "            if (n[i] > n[i + 1]) {\n",
    "                return false; \n",
    "            }\n",
    "        }\n",
    "    \n",
    "        return true; \n",
    "    }\n",
    "\n",
    "    public static void main(String[] args){\n",
    "        \n",
    "        System.out.println(\"First and Last Element Swap: \");\n",
    "        Array swapFirstAndLastElement = new Array();\n",
    "        swapFirstAndLastElement.swapFirstAndLastElement();\n",
    "        swapFirstAndLastElement.printElements();\n",
    "\n",
    "        System.out.println(\"Replacing All Elements With Zero: \");\n",
    "        Array replaceAllZero = new Array();\n",
    "        swapFirstAndLastElement.replaceWithZero();\n",
    "        swapFirstAndLastElement.printElements();\n",
    "\n",
    "        System.out.println(\"Array In Increasing Order:\");\n",
    "        System.out.println(findIfSorted(values));\n",
    "\n",
    "\n",
    "    }\n",
    "}\n",
    "\n",
    "Array.main(null);"
   ]
  }
 ],
 "metadata": {
  "kernelspec": {
   "display_name": "Java",
   "language": "java",
   "name": "java"
  },
  "language_info": {
   "codemirror_mode": "java",
   "file_extension": ".jshell",
   "mimetype": "text/x-java-source",
   "name": "Java",
   "pygments_lexer": "java",
   "version": "11.0.16.1+0"
  },
  "orig_nbformat": 4
 },
 "nbformat": 4,
 "nbformat_minor": 2
}
